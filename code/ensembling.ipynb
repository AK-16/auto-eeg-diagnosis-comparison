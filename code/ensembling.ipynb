{
 "cells": [
  {
   "cell_type": "code",
   "execution_count": 1,
   "metadata": {},
   "outputs": [],
   "source": [
    "from collections import OrderedDict"
   ]
  },
  {
   "cell_type": "code",
   "execution_count": 2,
   "metadata": {},
   "outputs": [],
   "source": [
    "import pandas as pd\n",
    "import numpy as np"
   ]
  },
  {
   "cell_type": "code",
   "execution_count": 3,
   "metadata": {},
   "outputs": [],
   "source": [
    "import matplotlib.pyplot as plt\n",
    "%matplotlib inline"
   ]
  },
  {
   "cell_type": "code",
   "execution_count": 4,
   "metadata": {},
   "outputs": [],
   "source": [
    "def load_predictions(path, n=5, average=True):\n",
    "    preds = pd.DataFrame()\n",
    "    for i in range(n):\n",
    "        preds = preds.append(pd.read_csv(path.format(i), index_col=0))\n",
    "    if average:\n",
    "        preds = preds.groupby(level=0).mean()    \n",
    "    return preds"
   ]
  },
  {
   "cell_type": "code",
   "execution_count": 13,
   "metadata": {},
   "outputs": [
    {
     "name": "stdout",
     "output_type": "stream",
     "text": [
      "config.json                    performances_train.csv  predictions_valid.csv\n",
      "exp.pkl                        performances_valid.csv\n",
      "feature_importances_valid.csv  predictions_train.csv\n"
     ]
    }
   ],
   "source": [
    "ls ../results/features/rf/pathological/without_age_and_gender/cv/"
   ]
  },
  {
   "cell_type": "code",
   "execution_count": 9,
   "metadata": {},
   "outputs": [
    {
     "data": {
      "text/plain": [
       "[544, 1088, 1631, 2174, 2717]"
      ]
     },
     "execution_count": 9,
     "metadata": {},
     "output_type": "execute_result"
    }
   ],
   "source": [
    "[len(load_predictions(\"../results/networks/tcn/pathological/cv/predictions_test_{}.csv\", average=False, n=i)) for i in range(1,6)]"
   ]
  },
  {
   "cell_type": "code",
   "execution_count": 15,
   "metadata": {},
   "outputs": [
    {
     "data": {
      "text/plain": [
       "[544, 1087, 1630, 2173, 2716]"
      ]
     },
     "execution_count": 15,
     "metadata": {},
     "output_type": "execute_result"
    }
   ],
   "source": [
    "df = pd.read_csv(\"../results/features/rf/pathological/without_age_and_gender/cv/predictions_valid.csv\", index_col=0)\n",
    "[len(df[df.id <= i]) for i in range(5)]"
   ]
  },
  {
   "cell_type": "markdown",
   "metadata": {},
   "source": [
    "unequal number of predicted examples in cv due to additional preprocessing for feature pipeline.."
   ]
  },
  {
   "cell_type": "code",
   "execution_count": 16,
   "metadata": {},
   "outputs": [],
   "source": [
    "# drop predictions for reocrding 822 for ensembling, since it was also dropped in the feature pipeline to \n",
    "def drop_recording(predictions, rec_id=822):\n",
    "    predictions = predictions.reset_index(drop=True)\n",
    "    predictions = predictions.drop(rec_id)\n",
    "    predictions = predictions.reset_index(drop=True)\n",
    "    return predictions"
   ]
  },
  {
   "cell_type": "code",
   "execution_count": 19,
   "metadata": {},
   "outputs": [],
   "source": [
    "def load_network_eval_results(path):\n",
    "    preds = load_predictions(path, average=True)\n",
    "    y_true = preds[\"true_pathological\"]\n",
    "    labels = preds[\"non-pathological\"] <= preds[\"pathological\"]\n",
    "    preds = preds[[\"non-pathological\", \"pathological\"]]\n",
    "    return preds.values, labels.values, y_true.values"
   ]
  },
  {
   "cell_type": "code",
   "execution_count": 20,
   "metadata": {},
   "outputs": [],
   "source": [
    "def load_network_cv_results(path, drop_rec_id=None):\n",
    "    preds = load_predictions(path, average=False)\n",
    "    if drop_rec_id is not None:\n",
    "        preds = drop_recording(preds, drop_rec_id)\n",
    "    y_true = preds[\"true_pathological\"]\n",
    "    labels = preds[\"non-pathological\"] <= preds[\"pathological\"]\n",
    "    preds = preds[[\"non-pathological\", \"pathological\"]]\n",
    "    return preds.values, labels.values, y_true.values"
   ]
  },
  {
   "cell_type": "markdown",
   "metadata": {},
   "source": [
    "load average over runs of final eval predictions but individual cv run predictions"
   ]
  },
  {
   "cell_type": "code",
   "execution_count": null,
   "metadata": {},
   "outputs": [],
   "source": [
    "deep_eval_preds, deep_eval_labels, deep_eval_y_true = load_network_eval_results(\n",
    "    path=\"/home/gemeinl/results/all_recs_100_hz/networks/deep/pathological/eval/predictions_test_{}.csv\")"
   ]
  },
  {
   "cell_type": "code",
   "execution_count": 22,
   "metadata": {},
   "outputs": [],
   "source": [
    "deep_cv_preds, deep_cv_labels, deep_cv_y_true = load_network_cv_results(\n",
    "    path=\"/home/gemeinl/results/all_recs_100_hz/networks/deep/pathological/cv/predictions_test_{}.csv\",\n",
    "    drop_rec_id=822)"
   ]
  },
  {
   "cell_type": "code",
   "execution_count": 23,
   "metadata": {},
   "outputs": [],
   "source": [
    "shallow_eval_preds, shallow_eval_labels, shallow_eval_y_true = load_network_eval_results(\n",
    "    path=\"/home/gemeinl/results/all_recs_100_hz/networks/shallow/pathological/eval/predictions_test_{}.csv\")"
   ]
  },
  {
   "cell_type": "code",
   "execution_count": 24,
   "metadata": {},
   "outputs": [],
   "source": [
    "shallow_cv_preds, shallow_cv_labels, shallow_cv_y_true = load_network_cv_results(\n",
    "    path=\"/home/gemeinl/results/all_recs_100_hz/networks/shallow/pathological/cv/predictions_test_{}.csv\",\n",
    "    drop_rec_id=822)"
   ]
  },
  {
   "cell_type": "code",
   "execution_count": 25,
   "metadata": {},
   "outputs": [],
   "source": [
    "tcn_eval_preds, tcn_eval_labels, tcn_eval_y_true = load_network_eval_results(\n",
    "    path=\"/home/gemeinl/results/all_recs_100_hz/networks/tcn/pathological/eval/predictions_test_{}.csv\")"
   ]
  },
  {
   "cell_type": "code",
   "execution_count": 26,
   "metadata": {},
   "outputs": [],
   "source": [
    "tcn_cv_preds, tcn_cv_labels, tcn_cv_y_true = load_network_cv_results(\n",
    "    path=\"/home/gemeinl/results/all_recs_100_hz/networks/tcn/pathological/cv/predictions_test_{}.csv\",\n",
    "    drop_rec_id=822)"
   ]
  },
  {
   "cell_type": "code",
   "execution_count": 27,
   "metadata": {},
   "outputs": [],
   "source": [
    "eegnet_eval_preds, eegnet_eval_labels, eegnet_eval_y_true = load_network_eval_results(\n",
    "    path=\"/home/gemeinl/results/all_recs_100_hz/networks/eegnet/pathological/eval/predictions_test_{}.csv\")"
   ]
  },
  {
   "cell_type": "code",
   "execution_count": 28,
   "metadata": {},
   "outputs": [],
   "source": [
    "eegnet_cv_preds, eegnet_cv_labels, eegnet_cv_y_true = load_network_cv_results(\n",
    "    path=\"/home/gemeinl/results/all_recs_100_hz/networks/eegnet/pathological/cv/predictions_test_{}.csv\",\n",
    "    drop_rec_id=822)"
   ]
  },
  {
   "cell_type": "code",
   "execution_count": 29,
   "metadata": {},
   "outputs": [],
   "source": [
    "assert len(deep_cv_preds) == len(shallow_cv_preds) == len(tcn_cv_preds) == len(eegnet_cv_preds)"
   ]
  },
  {
   "cell_type": "code",
   "execution_count": 30,
   "metadata": {},
   "outputs": [],
   "source": [
    "assert ((deep_cv_y_true * shallow_cv_y_true * tcn_cv_y_true * eegnet_cv_y_true) == deep_cv_y_true).sum() == len(deep_cv_y_true)\n",
    "assert ((deep_eval_y_true * shallow_eval_y_true * tcn_eval_y_true * eegnet_eval_y_true) == deep_eval_y_true).sum() == len(deep_eval_y_true)"
   ]
  },
  {
   "cell_type": "code",
   "execution_count": 31,
   "metadata": {},
   "outputs": [],
   "source": [
    "def load_feature_eval_results(path, average=True, thresh=.5):\n",
    "    preds = pd.read_csv(path, index_col=0)\n",
    "    if average:\n",
    "        preds = preds.groupby(\"group\").mean()\n",
    "    preds = preds.reset_index(drop=True)\n",
    "    y_true = preds[\"y_true\"]\n",
    "    labels = preds[\"y_pred\"] >= thresh\n",
    "    preds = pd.DataFrame(np.concatenate([1-preds[\"y_pred\"].values.reshape(-1, 1), \n",
    "                                         preds[\"y_pred\"].values.reshape(-1, 1)], axis=1),\n",
    "                         columns=[\"non-pathological\", \"pathological\"])\n",
    "    return preds.values, labels.values, y_true.values"
   ]
  },
  {
   "cell_type": "code",
   "execution_count": 32,
   "metadata": {},
   "outputs": [],
   "source": [
    "rf_eval_preds, rf_eval_labels, rf_eval_y_true = load_feature_eval_results(\n",
    "    path=\"/home/gemeinl/results/all_recs_100_hz/features/rf/pathological/without_age_and_gender/eval/predictions_eval.csv\",\n",
    "    average=True\n",
    ")"
   ]
  },
  {
   "cell_type": "code",
   "execution_count": 33,
   "metadata": {},
   "outputs": [],
   "source": [
    "rf_cv_preds, rf_cv_labels, rf_cv_y_true = load_feature_eval_results(\n",
    "    path=\"/home/gemeinl/results/all_recs_100_hz/features/rf/pathological/without_age_and_gender/cv/predictions_valid.csv\", \n",
    "    average=False)"
   ]
  },
  {
   "cell_type": "code",
   "execution_count": 34,
   "metadata": {},
   "outputs": [],
   "source": [
    "svm_eval_preds, svm_eval_labels, svm_eval_y_true = load_feature_eval_results(\n",
    "    path=\"/home/gemeinl/results/all_recs_100_hz/features/svm/pathological/without_age_and_gender/eval/predictions_eval.csv\")"
   ]
  },
  {
   "cell_type": "code",
   "execution_count": 35,
   "metadata": {},
   "outputs": [],
   "source": [
    "svm_cv_preds, svm_cv_labels, svm_cv_y_true = load_feature_eval_results(\n",
    "    path=\"/home/gemeinl/results/all_recs_100_hz/features/svm/pathological/without_age_and_gender/cv/predictions_valid.csv\", \n",
    "    average=False)"
   ]
  },
  {
   "cell_type": "code",
   "execution_count": 36,
   "metadata": {},
   "outputs": [],
   "source": [
    "asc_eval_preds = pd.read_csv(\"/home/gemeinl/results/all_recs_100_hz/features/asc/pathological/probas_eval.csv\", index_col=0)\n",
    "asc_eval_labels = asc_eval_preds[\"1\"] >= .5\n",
    "asc_eval_preds = pd.DataFrame(np.concatenate([asc_eval_preds[\"1\"].values.reshape(-1, 1), \n",
    "                                              1-asc_eval_preds[\"1\"].values.reshape(-1, 1)], axis=1), \n",
    "                              columns=[\"pathological\", \"non-pathological\"])"
   ]
  },
  {
   "cell_type": "markdown",
   "metadata": {},
   "source": [
    "auto-sklearn classifier does not give access to cv predictions. cv is handled internally"
   ]
  },
  {
   "cell_type": "code",
   "execution_count": 26,
   "metadata": {},
   "outputs": [],
   "source": [
    "# there are no cv predictions for auto-sklearn. it does not give access\n",
    "#asc_cv_preds = pd.read_csv(\"/home/gemeinl/results/all_recs_100_hz/features/asc/pathological/probas_valid.csv\", index_col=0).groupby(\"group\").mean()\n",
    "#asc_cv_y_true = asc_cv_preds[\"y_true\"]\n",
    "#asc_cv_labels = asc_cv_preds[\"y_pred\"] >= .5\n",
    "#asc_cv_preds = pd.DataFrame(np.concatenate([asc_cv_preds[\"y_pred\"].values.reshape(-1, 1), \n",
    "#                                            1-asc_cv_preds[\"y_pred\"].values.reshape(-1, 1)], axis=1), \n",
    "#                            columns=[\"pathological\", \"non-pathological\"])"
   ]
  },
  {
   "cell_type": "code",
   "execution_count": 27,
   "metadata": {},
   "outputs": [],
   "source": [
    "riemannian_eval_preds, riemannian_eval_labels, riemannian_eval_y_true = load_feature_eval_results(\n",
    "    path=\"/home/gemeinl/results/all_recs_100_hz/features/riemannian/pathological/eval/predictions_eval.csv\",\n",
    "    average=False)\n",
    "#riemannian_eval_preds = np.repeat(riemannian_eval_preds, 5, axis=0)\n",
    "#riemannian_eval_labels = np.tile(riemannian_eval_labels, 5)\n",
    "#riemannian_eval_y_true = np.tile(riemannian_eval_y_true, 5,)"
   ]
  },
  {
   "cell_type": "code",
   "execution_count": 28,
   "metadata": {},
   "outputs": [],
   "source": [
    "riemannian_cv_preds, riemannian_cv_labels, riemannian_cv_y_true = load_feature_eval_results(\n",
    "    path=\"/home/gemeinl/results/all_recs_100_hz/features/riemannian/pathological/cv/predictions_valid.csv\", \n",
    "    average=False)"
   ]
  },
  {
   "cell_type": "code",
   "execution_count": 29,
   "metadata": {},
   "outputs": [],
   "source": [
    "assert len(rf_cv_preds) == len(svm_cv_preds) == len(riemannian_cv_preds)\n",
    "assert len(rf_eval_preds) == len(svm_eval_preds) == len(riemannian_eval_preds)"
   ]
  },
  {
   "cell_type": "code",
   "execution_count": 30,
   "metadata": {},
   "outputs": [],
   "source": [
    "assert ((rf_cv_y_true * svm_cv_y_true * riemannian_cv_y_true) == rf_cv_y_true).sum() == len(rf_cv_y_true)\n",
    "assert ((rf_eval_y_true * svm_eval_y_true * riemannian_eval_y_true) == rf_eval_y_true).sum() == len(rf_eval_y_true)"
   ]
  },
  {
   "cell_type": "code",
   "execution_count": 31,
   "metadata": {},
   "outputs": [],
   "source": [
    "# check that network and feature ground truths are the same\n",
    "assert (rf_cv_y_true == deep_cv_y_true).sum() == len(deep_cv_y_true)\n",
    "assert (rf_eval_y_true == deep_eval_y_true).sum() == len(deep_eval_y_true)"
   ]
  },
  {
   "cell_type": "code",
   "execution_count": 32,
   "metadata": {},
   "outputs": [],
   "source": [
    "for ix, l in enumerate(deep_eval_y_true):\n",
    "    assert rf_eval_y_true[ix] == l"
   ]
  },
  {
   "cell_type": "code",
   "execution_count": 33,
   "metadata": {},
   "outputs": [],
   "source": [
    "cv_y_true = deep_cv_y_true\n",
    "eval_y_true = deep_eval_y_true"
   ]
  },
  {
   "cell_type": "code",
   "execution_count": 34,
   "metadata": {},
   "outputs": [],
   "source": [
    "cv_preds_dict = OrderedDict({\n",
    "    \"BD-Deep4\": deep_cv_preds,\n",
    "    \"BD-Shallow\": shallow_cv_preds, \n",
    "    \"BD-TCN\": tcn_cv_preds,\n",
    "    \"BD-EEGNet\": eegnet_cv_preds,\n",
    "    \"RF\": rf_cv_preds, \n",
    "    \"SVM\": svm_cv_preds,\n",
    "    \"RG\": riemannian_cv_preds\n",
    "})"
   ]
  },
  {
   "cell_type": "code",
   "execution_count": 35,
   "metadata": {},
   "outputs": [],
   "source": [
    "cv_labels_dict = OrderedDict({\n",
    "    \"BD-Deep4\": deep_cv_labels,\n",
    "    \"BD-Shallow\": shallow_cv_labels,\n",
    "    \"BD-TCN\": tcn_cv_labels, \n",
    "    \"BD-EEGNet\": eegnet_cv_labels,\n",
    "    \"RF\": rf_cv_labels,\n",
    "    \"SVM\": svm_cv_labels,\n",
    "    \"RG\": riemannian_cv_labels\n",
    "})"
   ]
  },
  {
   "cell_type": "code",
   "execution_count": 36,
   "metadata": {},
   "outputs": [],
   "source": [
    "eval_preds_dict = OrderedDict({\n",
    "    \"BD-Deep4\": deep_eval_preds,\n",
    "    \"BD-Shallow\": shallow_eval_preds, \n",
    "    \"BD-TCN\": tcn_eval_preds,\n",
    "    \"BD-EEGNet\": eegnet_eval_preds,\n",
    "    \"RF\": rf_eval_preds, \n",
    "    \"SVM\": svm_eval_preds,\n",
    "    \"RG\": riemannian_eval_preds\n",
    "})"
   ]
  },
  {
   "cell_type": "code",
   "execution_count": 37,
   "metadata": {},
   "outputs": [],
   "source": [
    "eval_labels_dict = OrderedDict({\n",
    "    \"BD-Deep4\": deep_eval_labels,\n",
    "    \"BD-Shallow\": shallow_eval_labels,\n",
    "    \"BD-TCN\": tcn_eval_labels, \n",
    "    \"BD-EEGNet\": eegnet_eval_labels,\n",
    "    \"RF\": rf_eval_labels,\n",
    "    \"SVM\": svm_eval_labels,\n",
    "    \"RG\": riemannian_eval_labels\n",
    "})"
   ]
  },
  {
   "cell_type": "code",
   "execution_count": 38,
   "metadata": {},
   "outputs": [],
   "source": [
    "from scipy.stats import spearmanr"
   ]
  },
  {
   "cell_type": "code",
   "execution_count": 39,
   "metadata": {},
   "outputs": [],
   "source": [
    "models = (\"BD-Deep4\", \"BD-Shallow\", \"BD-TCN\", \"BD-EEGNet\", \"RF\", \"SVM\", \"RG\")"
   ]
  },
  {
   "cell_type": "code",
   "execution_count": 40,
   "metadata": {},
   "outputs": [],
   "source": [
    "cs = np.zeros((len(models), len(models)))\n",
    "\n",
    "for i, m1 in enumerate(models):\n",
    "    for j in range(0, i):\n",
    "        m2 = models[j]\n",
    "        c, p =spearmanr(cv_preds_dict[m1][:,1], cv_preds_dict[m2][:,1])\n",
    "        cs[i,j] = c\n",
    "        m1_errors = (cv_labels_dict[m1] != cv_y_true)\n",
    "        m2_errors = (cv_labels_dict[m2] != cv_y_true)\n",
    "        e = (m1_errors != m2_errors).sum()/len(set(list(np.arange(len(m1_errors))[m2_errors]) + list(np.arange(len(m1_errors))[m1_errors])))        \n",
    "        cs[j,i]=e"
   ]
  },
  {
   "cell_type": "code",
   "execution_count": 46,
   "metadata": {},
   "outputs": [],
   "source": [
    "m1_errors = (cv_labels_dict[\"BD-Deep4\"] != cv_y_true)\n",
    "m2_errors = (cv_labels_dict[\"RG\"] != cv_y_true)"
   ]
  },
  {
   "cell_type": "code",
   "execution_count": 47,
   "metadata": {},
   "outputs": [
    {
     "data": {
      "text/plain": [
       "(415, 509)"
      ]
     },
     "execution_count": 47,
     "metadata": {},
     "output_type": "execute_result"
    }
   ],
   "source": [
    "m1_errors.sum(), m2_errors.sum()"
   ]
  },
  {
   "cell_type": "code",
   "execution_count": 48,
   "metadata": {},
   "outputs": [
    {
     "data": {
      "text/plain": [
       "664"
      ]
     },
     "execution_count": 48,
     "metadata": {},
     "output_type": "execute_result"
    }
   ],
   "source": [
    "# overlapping label errors\n",
    "len(set(list(np.arange(len(m1_errors))[m2_errors]) + list(np.arange(len(m1_errors))[m1_errors])))"
   ]
  },
  {
   "cell_type": "code",
   "execution_count": 49,
   "metadata": {},
   "outputs": [
    {
     "data": {
      "text/plain": [
       "0.608433734939759"
      ]
     },
     "execution_count": 49,
     "metadata": {},
     "output_type": "execute_result"
    }
   ],
   "source": [
    "# non-overlapping label errors\n",
    "(m1_errors != m2_errors).sum()/len(set(list(np.arange(len(m1_errors))[m2_errors]) + list(np.arange(len(m1_errors))[m1_errors])))"
   ]
  },
  {
   "cell_type": "code",
   "execution_count": 50,
   "metadata": {},
   "outputs": [
    {
     "data": {
      "text/plain": [
       "0.8472017673048601"
      ]
     },
     "execution_count": 50,
     "metadata": {},
     "output_type": "execute_result"
    }
   ],
   "source": [
    "(deep_cv_y_true == deep_cv_labels).mean()"
   ]
  },
  {
   "cell_type": "code",
   "execution_count": 51,
   "metadata": {},
   "outputs": [
    {
     "data": {
      "text/plain": [
       "0.8310014727540501"
      ]
     },
     "execution_count": 51,
     "metadata": {},
     "output_type": "execute_result"
    }
   ],
   "source": [
    "(deep_cv_y_true == rf_cv_labels).mean()"
   ]
  },
  {
   "cell_type": "code",
   "execution_count": 52,
   "metadata": {},
   "outputs": [
    {
     "data": {
      "text/plain": [
       "1.0"
      ]
     },
     "execution_count": 52,
     "metadata": {},
     "output_type": "execute_result"
    }
   ],
   "source": [
    "(deep_cv_y_true == cv_y_true).mean()"
   ]
  },
  {
   "cell_type": "code",
   "execution_count": 53,
   "metadata": {},
   "outputs": [
    {
     "data": {
      "text/plain": [
       "0.8472017673048601"
      ]
     },
     "execution_count": 53,
     "metadata": {},
     "output_type": "execute_result"
    }
   ],
   "source": [
    "(deep_cv_labels == cv_y_true).mean()"
   ]
  },
  {
   "cell_type": "code",
   "execution_count": 54,
   "metadata": {},
   "outputs": [
    {
     "data": {
      "text/plain": [
       "0.8310014727540501"
      ]
     },
     "execution_count": 54,
     "metadata": {},
     "output_type": "execute_result"
    }
   ],
   "source": [
    "(cv_y_true == rf_cv_labels).mean()"
   ]
  },
  {
   "cell_type": "code",
   "execution_count": null,
   "metadata": {},
   "outputs": [],
   "source": []
  },
  {
   "cell_type": "code",
   "execution_count": null,
   "metadata": {},
   "outputs": [],
   "source": []
  },
  {
   "cell_type": "code",
   "execution_count": 55,
   "metadata": {},
   "outputs": [],
   "source": [
    "import matplotlib\n",
    "fs = 16\n",
    "matplotlib.rcParams.update({'font.size': fs})"
   ]
  },
  {
   "cell_type": "code",
   "execution_count": 56,
   "metadata": {},
   "outputs": [
    {
     "data": {
      "image/png": "[encoded data removed]",
      "text/plain": [
       "<Figure size 864x504 with 2 Axes>"
      ]
     },
     "metadata": {
      "needs_background": "light"
     },
     "output_type": "display_data"
    }
   ],
   "source": [
    "fig, ax = plt.subplots(figsize=(12,7))\n",
    "ax.set_xticks(range(len(models)))\n",
    "ax.set_xticklabels(models, rotation=45)\n",
    "ax.set_yticks(range(len(models)))\n",
    "ax.set_yticklabels(models)\n",
    "im = ax.imshow(cs, cmap=\"Reds\", origin=\"upper\")\n",
    "fig.subplots_adjust(right=1.1)\n",
    "cbar_ax = fig.add_axes([0.85, 0.125, 0.05, 0.755])\n",
    "cbar = fig.colorbar(im, cax=cbar_ax)\n",
    "im.set_clim([0,1])\n",
    "cbar.ax.set_ylabel(\"Spearman correlation of predictions /\\nRatio of non-overlapping label errors\");\n",
    "\n",
    "for i in range(len(models)):\n",
    "    for j in range(0, i):\n",
    "        c = \"k\" if cs[i][j] < .5 else \"w\"\n",
    "        ax.text(j, i, \"{:.2f}\".format(cs[i,j]), va=\"center\", ha=\"center\", color=c)\n",
    "        c = \"k\" if cs[j][i] < .5 else \"w\"\n",
    "        ax.text(i, j, \"{:.2f}\".format(cs[j,i]), va=\"center\", ha=\"center\", color=c)"
   ]
  },
  {
   "cell_type": "markdown",
   "metadata": {},
   "source": [
    "fig.savefig(\"/home/gemeinl/prediction_correlation_with_ratio_of_uncorrelated_errors.pdf\", bbox_inches=\"tight\")"
   ]
  },
  {
   "cell_type": "code",
   "execution_count": null,
   "metadata": {},
   "outputs": [],
   "source": []
  },
  {
   "cell_type": "markdown",
   "metadata": {},
   "source": [
    "__try ensembling based on majority vote__"
   ]
  },
  {
   "cell_type": "code",
   "execution_count": 52,
   "metadata": {},
   "outputs": [],
   "source": [
    "from itertools import combinations"
   ]
  },
  {
   "cell_type": "code",
   "execution_count": 53,
   "metadata": {},
   "outputs": [],
   "source": [
    "# build all possible odd numbered ensembles and create majority vote ensemble labels for cross validation\n",
    "df = pd.DataFrame()\n",
    "for ensemble_size in (range(3, len(cv_labels_dict)+1, 2)):\n",
    "    for ensemble in combinations(cv_labels_dict.keys(), ensemble_size):\n",
    "        ensemble_labels = [cv_labels_dict[m] for m in ensemble]\n",
    "        acc = ((np.sum(ensemble_labels, axis=0) >= int(ensemble_size/2)+1) == cv_y_true).mean()\n",
    "        d = {\"Model {}\".format(i+1): m for i, m in enumerate(ensemble)}\n",
    "        d.update({\"accuracy\": acc})\n",
    "        df = df.append(d, ignore_index=True)"
   ]
  },
  {
   "cell_type": "code",
   "execution_count": 54,
   "metadata": {},
   "outputs": [
    {
     "data": {
      "text/html": [
       "<div>\n",
       "<style scoped>\n",
       "    .dataframe tbody tr th:only-of-type {\n",
       "        vertical-align: middle;\n",
       "    }\n",
       "\n",
       "    .dataframe tbody tr th {\n",
       "        vertical-align: top;\n",
       "    }\n",
       "\n",
       "    .dataframe thead th {\n",
       "        text-align: right;\n",
       "    }\n",
       "</style>\n",
       "<table border=\"1\" class=\"dataframe\">\n",
       "  <thead>\n",
       "    <tr style=\"text-align: right;\">\n",
       "      <th></th>\n",
       "      <th>Model 1</th>\n",
       "      <th>Model 2</th>\n",
       "      <th>Model 3</th>\n",
       "      <th>accuracy</th>\n",
       "      <th>Model 4</th>\n",
       "      <th>Model 5</th>\n",
       "      <th>Model 6</th>\n",
       "      <th>Model 7</th>\n",
       "    </tr>\n",
       "  </thead>\n",
       "  <tbody>\n",
       "    <tr>\n",
       "      <th>0</th>\n",
       "      <td>Deep</td>\n",
       "      <td>Shallow</td>\n",
       "      <td>TCN</td>\n",
       "      <td>0.857511</td>\n",
       "      <td>NaN</td>\n",
       "      <td>NaN</td>\n",
       "      <td>NaN</td>\n",
       "      <td>NaN</td>\n",
       "    </tr>\n",
       "    <tr>\n",
       "      <th>17</th>\n",
       "      <td>Shallow</td>\n",
       "      <td>TCN</td>\n",
       "      <td>SVM</td>\n",
       "      <td>0.857143</td>\n",
       "      <td>NaN</td>\n",
       "      <td>NaN</td>\n",
       "      <td>NaN</td>\n",
       "      <td>NaN</td>\n",
       "    </tr>\n",
       "    <tr>\n",
       "      <th>16</th>\n",
       "      <td>Shallow</td>\n",
       "      <td>TCN</td>\n",
       "      <td>RF</td>\n",
       "      <td>0.856775</td>\n",
       "      <td>NaN</td>\n",
       "      <td>NaN</td>\n",
       "      <td>NaN</td>\n",
       "      <td>NaN</td>\n",
       "    </tr>\n",
       "    <tr>\n",
       "      <th>6</th>\n",
       "      <td>Deep</td>\n",
       "      <td>TCN</td>\n",
       "      <td>RF</td>\n",
       "      <td>0.856406</td>\n",
       "      <td>NaN</td>\n",
       "      <td>NaN</td>\n",
       "      <td>NaN</td>\n",
       "      <td>NaN</td>\n",
       "    </tr>\n",
       "    <tr>\n",
       "      <th>8</th>\n",
       "      <td>Deep</td>\n",
       "      <td>TCN</td>\n",
       "      <td>RG</td>\n",
       "      <td>0.856038</td>\n",
       "      <td>NaN</td>\n",
       "      <td>NaN</td>\n",
       "      <td>NaN</td>\n",
       "      <td>NaN</td>\n",
       "    </tr>\n",
       "    <tr>\n",
       "      <th>39</th>\n",
       "      <td>Deep</td>\n",
       "      <td>Shallow</td>\n",
       "      <td>TCN</td>\n",
       "      <td>0.855670</td>\n",
       "      <td>RF</td>\n",
       "      <td>RG</td>\n",
       "      <td>NaN</td>\n",
       "      <td>NaN</td>\n",
       "    </tr>\n",
       "    <tr>\n",
       "      <th>2</th>\n",
       "      <td>Deep</td>\n",
       "      <td>Shallow</td>\n",
       "      <td>RF</td>\n",
       "      <td>0.855670</td>\n",
       "      <td>NaN</td>\n",
       "      <td>NaN</td>\n",
       "      <td>NaN</td>\n",
       "      <td>NaN</td>\n",
       "    </tr>\n",
       "    <tr>\n",
       "      <th>38</th>\n",
       "      <td>Deep</td>\n",
       "      <td>Shallow</td>\n",
       "      <td>TCN</td>\n",
       "      <td>0.855670</td>\n",
       "      <td>RF</td>\n",
       "      <td>SVM</td>\n",
       "      <td>NaN</td>\n",
       "      <td>NaN</td>\n",
       "    </tr>\n",
       "    <tr>\n",
       "      <th>15</th>\n",
       "      <td>Shallow</td>\n",
       "      <td>TCN</td>\n",
       "      <td>EEGNet</td>\n",
       "      <td>0.854934</td>\n",
       "      <td>NaN</td>\n",
       "      <td>NaN</td>\n",
       "      <td>NaN</td>\n",
       "      <td>NaN</td>\n",
       "    </tr>\n",
       "    <tr>\n",
       "      <th>40</th>\n",
       "      <td>Deep</td>\n",
       "      <td>Shallow</td>\n",
       "      <td>TCN</td>\n",
       "      <td>0.854197</td>\n",
       "      <td>SVM</td>\n",
       "      <td>RG</td>\n",
       "      <td>NaN</td>\n",
       "      <td>NaN</td>\n",
       "    </tr>\n",
       "  </tbody>\n",
       "</table>\n",
       "</div>"
      ],
      "text/plain": [
       "    Model 1  Model 2 Model 3  accuracy Model 4 Model 5 Model 6 Model 7\n",
       "0      Deep  Shallow     TCN  0.857511     NaN     NaN     NaN     NaN\n",
       "17  Shallow      TCN     SVM  0.857143     NaN     NaN     NaN     NaN\n",
       "16  Shallow      TCN      RF  0.856775     NaN     NaN     NaN     NaN\n",
       "6      Deep      TCN      RF  0.856406     NaN     NaN     NaN     NaN\n",
       "8      Deep      TCN      RG  0.856038     NaN     NaN     NaN     NaN\n",
       "39     Deep  Shallow     TCN  0.855670      RF      RG     NaN     NaN\n",
       "2      Deep  Shallow      RF  0.855670     NaN     NaN     NaN     NaN\n",
       "38     Deep  Shallow     TCN  0.855670      RF     SVM     NaN     NaN\n",
       "15  Shallow      TCN  EEGNet  0.854934     NaN     NaN     NaN     NaN\n",
       "40     Deep  Shallow     TCN  0.854197     SVM      RG     NaN     NaN"
      ]
     },
     "execution_count": 54,
     "metadata": {},
     "output_type": "execute_result"
    }
   ],
   "source": [
    "df.sort_values(\"accuracy\", ascending=False).head(10)"
   ]
  },
  {
   "cell_type": "markdown",
   "metadata": {},
   "source": [
    "best cv result is 85.75%. so far best was TCN with 85.76% -> no improvement"
   ]
  },
  {
   "cell_type": "code",
   "execution_count": 55,
   "metadata": {},
   "outputs": [],
   "source": [
    "# use best majority vote cv ensemble for final evaluation\n",
    "ensemble = [\"Deep\", \"Shallow\", \"TCN\"]\n",
    "ensemble_labels = [eval_labels_dict[m] for m in ensemble]\n",
    "acc = ((np.sum(ensemble_labels, axis=0) >= int(len(ensemble)/2)+1) == eval_y_true).mean()"
   ]
  },
  {
   "cell_type": "code",
   "execution_count": 56,
   "metadata": {},
   "outputs": [
    {
     "data": {
      "text/plain": [
       "0.855072463768116"
      ]
     },
     "execution_count": 56,
     "metadata": {},
     "output_type": "execute_result"
    }
   ],
   "source": [
    "acc"
   ]
  },
  {
   "cell_type": "code",
   "execution_count": 57,
   "metadata": {},
   "outputs": [],
   "source": [
    "# use first majority vote cv ensemble with RG and TCN (top5)\n",
    "ensemble = [\"Deep\", \"TCN\", \"RG\"]\n",
    "ensemble_labels = [eval_labels_dict[m] for m in ensemble]\n",
    "acc = ((np.sum(ensemble_labels, axis=0) >= int(len(ensemble)/2)+1) == eval_y_true).mean()"
   ]
  },
  {
   "cell_type": "code",
   "execution_count": 58,
   "metadata": {},
   "outputs": [
    {
     "data": {
      "text/plain": [
       "0.8695652173913043"
      ]
     },
     "execution_count": 58,
     "metadata": {},
     "output_type": "execute_result"
    }
   ],
   "source": [
    "acc"
   ]
  },
  {
   "cell_type": "code",
   "execution_count": 59,
   "metadata": {},
   "outputs": [],
   "source": [
    "# use best 5-model majority vote cv ensemble\n",
    "ensemble = [\"RF\", \"Deep\", \"Shallow\", \"TCN\", \"RG\"]\n",
    "ensemble_labels = [eval_labels_dict[m] for m in ensemble]\n",
    "acc = ((np.sum(ensemble_labels, axis=0) >= int(len(ensemble)/2)+1) == eval_y_true).mean()"
   ]
  },
  {
   "cell_type": "code",
   "execution_count": 60,
   "metadata": {},
   "outputs": [
    {
     "data": {
      "text/plain": [
       "0.8586956521739131"
      ]
     },
     "execution_count": 60,
     "metadata": {},
     "output_type": "execute_result"
    }
   ],
   "source": [
    "acc"
   ]
  },
  {
   "cell_type": "markdown",
   "metadata": {},
   "source": [
    "-> majority voting of ensemble labels can increase accuracy to 86.96% in final evaluation"
   ]
  },
  {
   "cell_type": "markdown",
   "metadata": {},
   "source": [
    "-> best single-model is TCN with 86.16%"
   ]
  },
  {
   "cell_type": "code",
   "execution_count": null,
   "metadata": {},
   "outputs": [],
   "source": []
  },
  {
   "cell_type": "code",
   "execution_count": null,
   "metadata": {},
   "outputs": [],
   "source": []
  },
  {
   "cell_type": "code",
   "execution_count": null,
   "metadata": {},
   "outputs": [],
   "source": []
  },
  {
   "cell_type": "markdown",
   "metadata": {},
   "source": [
    "__now lets do it right. choose the 3 models that have most non-overlapping label errors__"
   ]
  },
  {
   "cell_type": "code",
   "execution_count": 62,
   "metadata": {},
   "outputs": [],
   "source": [
    "def error_ids(errors):\n",
    "    return np.arange(len(errors))[errors]"
   ]
  },
  {
   "cell_type": "code",
   "execution_count": 63,
   "metadata": {},
   "outputs": [],
   "source": [
    "df = pd.DataFrame()\n",
    "for i in range(len(models)):\n",
    "    m1 = models[i]\n",
    "    for j in range(i+1, len(models)):\n",
    "        m2 = models[j]\n",
    "        for k in range(j+1, len(models)):\n",
    "            m3 = models[k]\n",
    "            #print(i, m1, j, m2, k, m3)\n",
    "            m1_errors = cv_labels_dict[m1] != cv_y_true\n",
    "            m2_errors = cv_labels_dict[m2] != cv_y_true\n",
    "            m3_errors = cv_labels_dict[m3] != cv_y_true  \n",
    "            \n",
    "            e0, e1, e2, e3 = np.bincount(np.bincount(\n",
    "                list(error_ids(m1_errors)) +\n",
    "                list(error_ids(m2_errors)) + \n",
    "                list(error_ids(m3_errors))\n",
    "            ))\n",
    "            d = {\"Model 1\": m1, \"Model 2\": m2, \"Model 3\": m3, \"E0\":len(cv_y_true)-e1-e2-e3, \"E1\": e1, \"E2\": e2, \"E3\": e3, \"E1 Ratio [%]\": e1/(e1+e2+e3) * 100}\n",
    "            df = df.append(d, ignore_index=True)"
   ]
  },
  {
   "cell_type": "markdown",
   "metadata": {},
   "source": [
    "import sys"
   ]
  },
  {
   "cell_type": "markdown",
   "metadata": {},
   "source": [
    "sys.path.insert(1, \"/home/gemeinl/code/cropped_decoding/\")"
   ]
  },
  {
   "cell_type": "markdown",
   "metadata": {},
   "source": [
    "from cropped_decoding.utils import set_df_column_dtypes"
   ]
  },
  {
   "cell_type": "markdown",
   "metadata": {},
   "source": [
    "pd.options.display.float_format = '{:,.2f}'.format"
   ]
  },
  {
   "cell_type": "markdown",
   "metadata": {},
   "source": [
    "print(set_df_column_dtypes(df[[\"Model 1\", \"Model 2\", \"Model 3\", \"E0\", \"E1\", \"E2\", \"E3\", \"E1 Ratio [%]\"]], [str, str, str, int, int, int, int, float]).to_latex())"
   ]
  },
  {
   "cell_type": "code",
   "execution_count": 85,
   "metadata": {},
   "outputs": [
    {
     "data": {
      "text/html": [
       "<div>\n",
       "<style scoped>\n",
       "    .dataframe tbody tr th:only-of-type {\n",
       "        vertical-align: middle;\n",
       "    }\n",
       "\n",
       "    .dataframe tbody tr th {\n",
       "        vertical-align: top;\n",
       "    }\n",
       "\n",
       "    .dataframe thead th {\n",
       "        text-align: right;\n",
       "    }\n",
       "</style>\n",
       "<table border=\"1\" class=\"dataframe\">\n",
       "  <thead>\n",
       "    <tr style=\"text-align: right;\">\n",
       "      <th></th>\n",
       "      <th>E0</th>\n",
       "      <th>E1</th>\n",
       "      <th>E1 Ratio [%]</th>\n",
       "      <th>E2</th>\n",
       "      <th>E3</th>\n",
       "      <th>Model 1</th>\n",
       "      <th>Model 2</th>\n",
       "      <th>Model 3</th>\n",
       "    </tr>\n",
       "  </thead>\n",
       "  <tbody>\n",
       "    <tr>\n",
       "      <th>13</th>\n",
       "      <td>1962.0</td>\n",
       "      <td>336.0</td>\n",
       "      <td>44.562334</td>\n",
       "      <td>207.0</td>\n",
       "      <td>211.0</td>\n",
       "      <td>Deep</td>\n",
       "      <td>RF</td>\n",
       "      <td>RG</td>\n",
       "    </tr>\n",
       "    <tr>\n",
       "      <th>24</th>\n",
       "      <td>1935.0</td>\n",
       "      <td>343.0</td>\n",
       "      <td>43.918054</td>\n",
       "      <td>233.0</td>\n",
       "      <td>205.0</td>\n",
       "      <td>Shallow</td>\n",
       "      <td>SVM</td>\n",
       "      <td>RG</td>\n",
       "    </tr>\n",
       "    <tr>\n",
       "      <th>30</th>\n",
       "      <td>1962.0</td>\n",
       "      <td>331.0</td>\n",
       "      <td>43.899204</td>\n",
       "      <td>204.0</td>\n",
       "      <td>219.0</td>\n",
       "      <td>TCN</td>\n",
       "      <td>SVM</td>\n",
       "      <td>RG</td>\n",
       "    </tr>\n",
       "    <tr>\n",
       "      <th>33</th>\n",
       "      <td>1925.0</td>\n",
       "      <td>346.0</td>\n",
       "      <td>43.742099</td>\n",
       "      <td>221.0</td>\n",
       "      <td>224.0</td>\n",
       "      <td>EEGNet</td>\n",
       "      <td>SVM</td>\n",
       "      <td>RG</td>\n",
       "    </tr>\n",
       "    <tr>\n",
       "      <th>8</th>\n",
       "      <td>2021.0</td>\n",
       "      <td>304.0</td>\n",
       "      <td>43.741007</td>\n",
       "      <td>166.0</td>\n",
       "      <td>225.0</td>\n",
       "      <td>Deep</td>\n",
       "      <td>TCN</td>\n",
       "      <td>RG</td>\n",
       "    </tr>\n",
       "    <tr>\n",
       "      <th>23</th>\n",
       "      <td>1970.0</td>\n",
       "      <td>325.0</td>\n",
       "      <td>43.565684</td>\n",
       "      <td>205.0</td>\n",
       "      <td>216.0</td>\n",
       "      <td>Shallow</td>\n",
       "      <td>RF</td>\n",
       "      <td>RG</td>\n",
       "    </tr>\n",
       "    <tr>\n",
       "      <th>29</th>\n",
       "      <td>1992.0</td>\n",
       "      <td>313.0</td>\n",
       "      <td>43.232044</td>\n",
       "      <td>191.0</td>\n",
       "      <td>220.0</td>\n",
       "      <td>TCN</td>\n",
       "      <td>RF</td>\n",
       "      <td>RG</td>\n",
       "    </tr>\n",
       "    <tr>\n",
       "      <th>27</th>\n",
       "      <td>2010.0</td>\n",
       "      <td>305.0</td>\n",
       "      <td>43.201133</td>\n",
       "      <td>161.0</td>\n",
       "      <td>240.0</td>\n",
       "      <td>TCN</td>\n",
       "      <td>EEGNet</td>\n",
       "      <td>RG</td>\n",
       "    </tr>\n",
       "    <tr>\n",
       "      <th>11</th>\n",
       "      <td>1990.0</td>\n",
       "      <td>312.0</td>\n",
       "      <td>42.975207</td>\n",
       "      <td>179.0</td>\n",
       "      <td>235.0</td>\n",
       "      <td>Deep</td>\n",
       "      <td>EEGNet</td>\n",
       "      <td>RG</td>\n",
       "    </tr>\n",
       "    <tr>\n",
       "      <th>34</th>\n",
       "      <td>1924.0</td>\n",
       "      <td>337.0</td>\n",
       "      <td>42.550505</td>\n",
       "      <td>234.0</td>\n",
       "      <td>221.0</td>\n",
       "      <td>RF</td>\n",
       "      <td>SVM</td>\n",
       "      <td>RG</td>\n",
       "    </tr>\n",
       "    <tr>\n",
       "      <th>32</th>\n",
       "      <td>1960.0</td>\n",
       "      <td>321.0</td>\n",
       "      <td>42.460317</td>\n",
       "      <td>207.0</td>\n",
       "      <td>228.0</td>\n",
       "      <td>EEGNet</td>\n",
       "      <td>RF</td>\n",
       "      <td>RG</td>\n",
       "    </tr>\n",
       "    <tr>\n",
       "      <th>14</th>\n",
       "      <td>1953.0</td>\n",
       "      <td>322.0</td>\n",
       "      <td>42.201835</td>\n",
       "      <td>221.0</td>\n",
       "      <td>220.0</td>\n",
       "      <td>Deep</td>\n",
       "      <td>SVM</td>\n",
       "      <td>RG</td>\n",
       "    </tr>\n",
       "    <tr>\n",
       "      <th>4</th>\n",
       "      <td>2006.0</td>\n",
       "      <td>299.0</td>\n",
       "      <td>42.112676</td>\n",
       "      <td>193.0</td>\n",
       "      <td>218.0</td>\n",
       "      <td>Deep</td>\n",
       "      <td>Shallow</td>\n",
       "      <td>RG</td>\n",
       "    </tr>\n",
       "    <tr>\n",
       "      <th>18</th>\n",
       "      <td>2033.0</td>\n",
       "      <td>286.0</td>\n",
       "      <td>41.874085</td>\n",
       "      <td>166.0</td>\n",
       "      <td>231.0</td>\n",
       "      <td>Shallow</td>\n",
       "      <td>TCN</td>\n",
       "      <td>RG</td>\n",
       "    </tr>\n",
       "    <tr>\n",
       "      <th>17</th>\n",
       "      <td>2056.0</td>\n",
       "      <td>272.0</td>\n",
       "      <td>41.212121</td>\n",
       "      <td>134.0</td>\n",
       "      <td>254.0</td>\n",
       "      <td>Shallow</td>\n",
       "      <td>TCN</td>\n",
       "      <td>SVM</td>\n",
       "    </tr>\n",
       "    <tr>\n",
       "      <th>21</th>\n",
       "      <td>1993.0</td>\n",
       "      <td>295.0</td>\n",
       "      <td>40.802213</td>\n",
       "      <td>204.0</td>\n",
       "      <td>224.0</td>\n",
       "      <td>Shallow</td>\n",
       "      <td>EEGNet</td>\n",
       "      <td>RG</td>\n",
       "    </tr>\n",
       "    <tr>\n",
       "      <th>22</th>\n",
       "      <td>2012.0</td>\n",
       "      <td>278.0</td>\n",
       "      <td>39.488636</td>\n",
       "      <td>182.0</td>\n",
       "      <td>244.0</td>\n",
       "      <td>Shallow</td>\n",
       "      <td>RF</td>\n",
       "      <td>SVM</td>\n",
       "    </tr>\n",
       "    <tr>\n",
       "      <th>20</th>\n",
       "      <td>2024.0</td>\n",
       "      <td>269.0</td>\n",
       "      <td>38.872832</td>\n",
       "      <td>172.0</td>\n",
       "      <td>251.0</td>\n",
       "      <td>Shallow</td>\n",
       "      <td>EEGNet</td>\n",
       "      <td>SVM</td>\n",
       "    </tr>\n",
       "    <tr>\n",
       "      <th>3</th>\n",
       "      <td>2053.0</td>\n",
       "      <td>255.0</td>\n",
       "      <td>38.461538</td>\n",
       "      <td>149.0</td>\n",
       "      <td>259.0</td>\n",
       "      <td>Deep</td>\n",
       "      <td>Shallow</td>\n",
       "      <td>SVM</td>\n",
       "    </tr>\n",
       "    <tr>\n",
       "      <th>2</th>\n",
       "      <td>2084.0</td>\n",
       "      <td>240.0</td>\n",
       "      <td>37.974684</td>\n",
       "      <td>127.0</td>\n",
       "      <td>265.0</td>\n",
       "      <td>Deep</td>\n",
       "      <td>Shallow</td>\n",
       "      <td>RF</td>\n",
       "    </tr>\n",
       "    <tr>\n",
       "      <th>26</th>\n",
       "      <td>2059.0</td>\n",
       "      <td>240.0</td>\n",
       "      <td>36.529680</td>\n",
       "      <td>153.0</td>\n",
       "      <td>264.0</td>\n",
       "      <td>TCN</td>\n",
       "      <td>EEGNet</td>\n",
       "      <td>SVM</td>\n",
       "    </tr>\n",
       "    <tr>\n",
       "      <th>31</th>\n",
       "      <td>2018.0</td>\n",
       "      <td>253.0</td>\n",
       "      <td>36.246418</td>\n",
       "      <td>178.0</td>\n",
       "      <td>267.0</td>\n",
       "      <td>EEGNet</td>\n",
       "      <td>RF</td>\n",
       "      <td>SVM</td>\n",
       "    </tr>\n",
       "    <tr>\n",
       "      <th>10</th>\n",
       "      <td>2056.0</td>\n",
       "      <td>238.0</td>\n",
       "      <td>36.060606</td>\n",
       "      <td>138.0</td>\n",
       "      <td>284.0</td>\n",
       "      <td>Deep</td>\n",
       "      <td>EEGNet</td>\n",
       "      <td>SVM</td>\n",
       "    </tr>\n",
       "    <tr>\n",
       "      <th>7</th>\n",
       "      <td>2084.0</td>\n",
       "      <td>227.0</td>\n",
       "      <td>35.917722</td>\n",
       "      <td>140.0</td>\n",
       "      <td>265.0</td>\n",
       "      <td>Deep</td>\n",
       "      <td>TCN</td>\n",
       "      <td>SVM</td>\n",
       "    </tr>\n",
       "    <tr>\n",
       "      <th>6</th>\n",
       "      <td>2108.0</td>\n",
       "      <td>218.0</td>\n",
       "      <td>35.855263</td>\n",
       "      <td>127.0</td>\n",
       "      <td>263.0</td>\n",
       "      <td>Deep</td>\n",
       "      <td>TCN</td>\n",
       "      <td>RF</td>\n",
       "    </tr>\n",
       "    <tr>\n",
       "      <th>16</th>\n",
       "      <td>2111.0</td>\n",
       "      <td>216.0</td>\n",
       "      <td>35.702479</td>\n",
       "      <td>122.0</td>\n",
       "      <td>267.0</td>\n",
       "      <td>Shallow</td>\n",
       "      <td>TCN</td>\n",
       "      <td>RF</td>\n",
       "    </tr>\n",
       "    <tr>\n",
       "      <th>12</th>\n",
       "      <td>2039.0</td>\n",
       "      <td>241.0</td>\n",
       "      <td>35.598227</td>\n",
       "      <td>175.0</td>\n",
       "      <td>261.0</td>\n",
       "      <td>Deep</td>\n",
       "      <td>RF</td>\n",
       "      <td>SVM</td>\n",
       "    </tr>\n",
       "    <tr>\n",
       "      <th>19</th>\n",
       "      <td>2077.0</td>\n",
       "      <td>227.0</td>\n",
       "      <td>35.524257</td>\n",
       "      <td>138.0</td>\n",
       "      <td>274.0</td>\n",
       "      <td>Shallow</td>\n",
       "      <td>EEGNet</td>\n",
       "      <td>RF</td>\n",
       "    </tr>\n",
       "    <tr>\n",
       "      <th>28</th>\n",
       "      <td>2049.0</td>\n",
       "      <td>236.0</td>\n",
       "      <td>35.382309</td>\n",
       "      <td>183.0</td>\n",
       "      <td>248.0</td>\n",
       "      <td>TCN</td>\n",
       "      <td>RF</td>\n",
       "      <td>SVM</td>\n",
       "    </tr>\n",
       "    <tr>\n",
       "      <th>9</th>\n",
       "      <td>2092.0</td>\n",
       "      <td>201.0</td>\n",
       "      <td>32.211538</td>\n",
       "      <td>145.0</td>\n",
       "      <td>278.0</td>\n",
       "      <td>Deep</td>\n",
       "      <td>EEGNet</td>\n",
       "      <td>RF</td>\n",
       "    </tr>\n",
       "    <tr>\n",
       "      <th>25</th>\n",
       "      <td>2108.0</td>\n",
       "      <td>195.0</td>\n",
       "      <td>32.072368</td>\n",
       "      <td>137.0</td>\n",
       "      <td>276.0</td>\n",
       "      <td>TCN</td>\n",
       "      <td>EEGNet</td>\n",
       "      <td>RF</td>\n",
       "    </tr>\n",
       "    <tr>\n",
       "      <th>15</th>\n",
       "      <td>2144.0</td>\n",
       "      <td>178.0</td>\n",
       "      <td>31.118881</td>\n",
       "      <td>107.0</td>\n",
       "      <td>287.0</td>\n",
       "      <td>Shallow</td>\n",
       "      <td>TCN</td>\n",
       "      <td>EEGNet</td>\n",
       "    </tr>\n",
       "    <tr>\n",
       "      <th>1</th>\n",
       "      <td>2130.0</td>\n",
       "      <td>177.0</td>\n",
       "      <td>30.204778</td>\n",
       "      <td>123.0</td>\n",
       "      <td>286.0</td>\n",
       "      <td>Deep</td>\n",
       "      <td>Shallow</td>\n",
       "      <td>EEGNet</td>\n",
       "    </tr>\n",
       "    <tr>\n",
       "      <th>0</th>\n",
       "      <td>2163.0</td>\n",
       "      <td>166.0</td>\n",
       "      <td>30.018083</td>\n",
       "      <td>110.0</td>\n",
       "      <td>277.0</td>\n",
       "      <td>Deep</td>\n",
       "      <td>Shallow</td>\n",
       "      <td>TCN</td>\n",
       "    </tr>\n",
       "    <tr>\n",
       "      <th>5</th>\n",
       "      <td>2158.0</td>\n",
       "      <td>150.0</td>\n",
       "      <td>26.881720</td>\n",
       "      <td>121.0</td>\n",
       "      <td>287.0</td>\n",
       "      <td>Deep</td>\n",
       "      <td>TCN</td>\n",
       "      <td>EEGNet</td>\n",
       "    </tr>\n",
       "  </tbody>\n",
       "</table>\n",
       "</div>"
      ],
      "text/plain": [
       "        E0     E1  E1 Ratio [%]     E2     E3  Model 1  Model 2 Model 3\n",
       "13  1962.0  336.0     44.562334  207.0  211.0     Deep       RF      RG\n",
       "24  1935.0  343.0     43.918054  233.0  205.0  Shallow      SVM      RG\n",
       "30  1962.0  331.0     43.899204  204.0  219.0      TCN      SVM      RG\n",
       "33  1925.0  346.0     43.742099  221.0  224.0   EEGNet      SVM      RG\n",
       "8   2021.0  304.0     43.741007  166.0  225.0     Deep      TCN      RG\n",
       "23  1970.0  325.0     43.565684  205.0  216.0  Shallow       RF      RG\n",
       "29  1992.0  313.0     43.232044  191.0  220.0      TCN       RF      RG\n",
       "27  2010.0  305.0     43.201133  161.0  240.0      TCN   EEGNet      RG\n",
       "11  1990.0  312.0     42.975207  179.0  235.0     Deep   EEGNet      RG\n",
       "34  1924.0  337.0     42.550505  234.0  221.0       RF      SVM      RG\n",
       "32  1960.0  321.0     42.460317  207.0  228.0   EEGNet       RF      RG\n",
       "14  1953.0  322.0     42.201835  221.0  220.0     Deep      SVM      RG\n",
       "4   2006.0  299.0     42.112676  193.0  218.0     Deep  Shallow      RG\n",
       "18  2033.0  286.0     41.874085  166.0  231.0  Shallow      TCN      RG\n",
       "17  2056.0  272.0     41.212121  134.0  254.0  Shallow      TCN     SVM\n",
       "21  1993.0  295.0     40.802213  204.0  224.0  Shallow   EEGNet      RG\n",
       "22  2012.0  278.0     39.488636  182.0  244.0  Shallow       RF     SVM\n",
       "20  2024.0  269.0     38.872832  172.0  251.0  Shallow   EEGNet     SVM\n",
       "3   2053.0  255.0     38.461538  149.0  259.0     Deep  Shallow     SVM\n",
       "2   2084.0  240.0     37.974684  127.0  265.0     Deep  Shallow      RF\n",
       "26  2059.0  240.0     36.529680  153.0  264.0      TCN   EEGNet     SVM\n",
       "31  2018.0  253.0     36.246418  178.0  267.0   EEGNet       RF     SVM\n",
       "10  2056.0  238.0     36.060606  138.0  284.0     Deep   EEGNet     SVM\n",
       "7   2084.0  227.0     35.917722  140.0  265.0     Deep      TCN     SVM\n",
       "6   2108.0  218.0     35.855263  127.0  263.0     Deep      TCN      RF\n",
       "16  2111.0  216.0     35.702479  122.0  267.0  Shallow      TCN      RF\n",
       "12  2039.0  241.0     35.598227  175.0  261.0     Deep       RF     SVM\n",
       "19  2077.0  227.0     35.524257  138.0  274.0  Shallow   EEGNet      RF\n",
       "28  2049.0  236.0     35.382309  183.0  248.0      TCN       RF     SVM\n",
       "9   2092.0  201.0     32.211538  145.0  278.0     Deep   EEGNet      RF\n",
       "25  2108.0  195.0     32.072368  137.0  276.0      TCN   EEGNet      RF\n",
       "15  2144.0  178.0     31.118881  107.0  287.0  Shallow      TCN  EEGNet\n",
       "1   2130.0  177.0     30.204778  123.0  286.0     Deep  Shallow  EEGNet\n",
       "0   2163.0  166.0     30.018083  110.0  277.0     Deep  Shallow     TCN\n",
       "5   2158.0  150.0     26.881720  121.0  287.0     Deep      TCN  EEGNet"
      ]
     },
     "execution_count": 85,
     "metadata": {},
     "output_type": "execute_result"
    }
   ],
   "source": [
    "df.sort_values(\"E1 Ratio [%]\", ascending=False)"
   ]
  },
  {
   "cell_type": "code",
   "execution_count": null,
   "metadata": {},
   "outputs": [],
   "source": []
  },
  {
   "cell_type": "code",
   "execution_count": null,
   "metadata": {},
   "outputs": [],
   "source": []
  },
  {
   "cell_type": "code",
   "execution_count": 86,
   "metadata": {},
   "outputs": [],
   "source": [
    "e0, e1, e2, e3 = np.bincount(np.bincount(list(error_ids(m1_errors)) + list(error_ids(m2_errors)) + list(error_ids(m3_errors))))"
   ]
  },
  {
   "cell_type": "code",
   "execution_count": 87,
   "metadata": {},
   "outputs": [
    {
     "name": "stdout",
     "output_type": "stream",
     "text": [
      "not misclassified by a single model: 1924\n"
     ]
    }
   ],
   "source": [
    "print(\"not misclassified by a single model: {}\".format(len(cv_y_true)-e1-e2-e3))"
   ]
  },
  {
   "cell_type": "code",
   "execution_count": 88,
   "metadata": {},
   "outputs": [
    {
     "name": "stdout",
     "output_type": "stream",
     "text": [
      "misclassified by a single model: 337\n"
     ]
    }
   ],
   "source": [
    "print(\"misclassified by a single model: {}\".format(e1))"
   ]
  },
  {
   "cell_type": "code",
   "execution_count": 89,
   "metadata": {},
   "outputs": [
    {
     "name": "stdout",
     "output_type": "stream",
     "text": [
      "misclassified by two models: 234\n"
     ]
    }
   ],
   "source": [
    "print(\"misclassified by two models: {}\".format(e2))"
   ]
  },
  {
   "cell_type": "code",
   "execution_count": 90,
   "metadata": {},
   "outputs": [
    {
     "name": "stdout",
     "output_type": "stream",
     "text": [
      "misclassified by three models: 221\n"
     ]
    }
   ],
   "source": [
    "print(\"misclassified by three models: {}\".format(e3))"
   ]
  },
  {
   "cell_type": "code",
   "execution_count": 91,
   "metadata": {},
   "outputs": [
    {
     "name": "stdout",
     "output_type": "stream",
     "text": [
      "misclassified by at least one model: 792\n"
     ]
    }
   ],
   "source": [
    "print(\"misclassified by at least one model: {}\".format(e1+e2+e3))"
   ]
  },
  {
   "cell_type": "code",
   "execution_count": null,
   "metadata": {},
   "outputs": [],
   "source": []
  },
  {
   "cell_type": "code",
   "execution_count": 92,
   "metadata": {},
   "outputs": [],
   "source": [
    "# use 3 model combination that has highest e1 errors\n",
    "ensemble = [\"Deep\", \"RF\", \"RG\"]\n",
    "ensemble_labels = [cv_labels_dict[m] for m in ensemble]\n",
    "acc = ((np.sum(ensemble_labels, axis=0) >= int(len(ensemble)/2)+1) == cv_y_true).mean()"
   ]
  },
  {
   "cell_type": "code",
   "execution_count": 93,
   "metadata": {},
   "outputs": [
    {
     "data": {
      "text/plain": [
       "0.8460972017673049"
      ]
     },
     "execution_count": 93,
     "metadata": {},
     "output_type": "execute_result"
    }
   ],
   "source": [
    "acc"
   ]
  },
  {
   "cell_type": "code",
   "execution_count": 94,
   "metadata": {},
   "outputs": [],
   "source": [
    "# use best majority vote cv ensemble for final evaluation\n",
    "ensemble = [\"Deep\", \"RF\", \"RG\"]\n",
    "ensemble_labels = [eval_labels_dict[m] for m in ensemble]\n",
    "acc = ((np.sum(ensemble_labels, axis=0) >= int(len(ensemble)/2)+1) == eval_y_true).mean()"
   ]
  },
  {
   "cell_type": "code",
   "execution_count": 95,
   "metadata": {},
   "outputs": [
    {
     "data": {
      "text/plain": [
       "0.855072463768116"
      ]
     },
     "execution_count": 95,
     "metadata": {},
     "output_type": "execute_result"
    }
   ],
   "source": [
    "acc"
   ]
  },
  {
   "cell_type": "code",
   "execution_count": null,
   "metadata": {},
   "outputs": [],
   "source": []
  },
  {
   "cell_type": "code",
   "execution_count": null,
   "metadata": {},
   "outputs": [],
   "source": []
  },
  {
   "cell_type": "code",
   "execution_count": null,
   "metadata": {},
   "outputs": [],
   "source": []
  },
  {
   "cell_type": "code",
   "execution_count": null,
   "metadata": {},
   "outputs": [],
   "source": []
  },
  {
   "cell_type": "code",
   "execution_count": null,
   "metadata": {},
   "outputs": [],
   "source": []
  },
  {
   "cell_type": "markdown",
   "metadata": {},
   "source": [
    "__lets try autosklearn for ensemble selection__"
   ]
  },
  {
   "cell_type": "code",
   "execution_count": 70,
   "metadata": {},
   "outputs": [],
   "source": [
    "import sys"
   ]
  },
  {
   "cell_type": "code",
   "execution_count": 71,
   "metadata": {},
   "outputs": [],
   "source": [
    "sys.path.insert(1, \"/home/gemeinl/code/auto-sklearn/\")"
   ]
  },
  {
   "cell_type": "code",
   "execution_count": 72,
   "metadata": {},
   "outputs": [],
   "source": [
    "import autosklearn"
   ]
  },
  {
   "cell_type": "code",
   "execution_count": 73,
   "metadata": {},
   "outputs": [
    {
     "data": {
      "text/plain": [
       "'0.6.0'"
      ]
     },
     "execution_count": 73,
     "metadata": {},
     "output_type": "execute_result"
    }
   ],
   "source": [
    "autosklearn.__version__"
   ]
  },
  {
   "cell_type": "code",
   "execution_count": 82,
   "metadata": {},
   "outputs": [],
   "source": [
    "from autosklearn.ensemble_builder import EnsembleSelection\n",
    "from autosklearn.metrics import accuracy\n",
    "from autosklearn.constants import BINARY_CLASSIFICATION"
   ]
  },
  {
   "cell_type": "markdown",
   "metadata": {},
   "source": [
    "search over different ensemble sizes"
   ]
  },
  {
   "cell_type": "code",
   "execution_count": 83,
   "metadata": {},
   "outputs": [],
   "source": [
    "df = pd.DataFrame()\n",
    "for ensemble_size in range(2, 50):\n",
    "    selector = EnsembleSelection(\n",
    "        ensemble_size=ensemble_size,\n",
    "        metric=accuracy,\n",
    "        task_type=BINARY_CLASSIFICATION,\n",
    "        random_state=np.random.RandomState((2019, 8, 22))\n",
    "    )\n",
    "    selector = selector.fit(\n",
    "        predictions=np.array([cv_preds_dict[key] for key in sorted(list(cv_preds_dict.keys()))]),\n",
    "        labels=cv_y_true,\n",
    "        identifiers=sorted(list(cv_preds_dict.keys()))\n",
    "    )\n",
    "    ensemble_predictions = selector.predict(predictions)    \n",
    "    ensemble_weights_and_models = selector.get_models_with_weights({key: key for key in cv_preds_dict.keys()})\n",
    "    ensemble_eval_preds = np.sum([eval_preds_dict[model] * weight for weight, model in ensemble_weights_and_models], axis=0)\n",
    "    \n",
    "    d = {m: w for w, m in ensemble_weights_and_models}\n",
    "    d[\"cv_accuracy\"] = 1 - selector.get_validation_performance()\n",
    "    d[\"ensemble_size\"] = ensemble_size\n",
    "    df = df.append(d, ignore_index=True)"
   ]
  },
  {
   "cell_type": "code",
   "execution_count": 84,
   "metadata": {},
   "outputs": [
    {
     "data": {
      "text/html": [
       "<div>\n",
       "<style scoped>\n",
       "    .dataframe tbody tr th:only-of-type {\n",
       "        vertical-align: middle;\n",
       "    }\n",
       "\n",
       "    .dataframe tbody tr th {\n",
       "        vertical-align: top;\n",
       "    }\n",
       "\n",
       "    .dataframe thead th {\n",
       "        text-align: right;\n",
       "    }\n",
       "</style>\n",
       "<table border=\"1\" class=\"dataframe\">\n",
       "  <thead>\n",
       "    <tr style=\"text-align: right;\">\n",
       "      <th></th>\n",
       "      <th>RF</th>\n",
       "      <th>TCN</th>\n",
       "      <th>cv_accuracy</th>\n",
       "      <th>ensemble_size</th>\n",
       "      <th>Shallow</th>\n",
       "      <th>EEGNet</th>\n",
       "      <th>Deep</th>\n",
       "      <th>RG</th>\n",
       "    </tr>\n",
       "  </thead>\n",
       "  <tbody>\n",
       "    <tr>\n",
       "      <th>19</th>\n",
       "      <td>0.190476</td>\n",
       "      <td>0.190476</td>\n",
       "      <td>0.862297</td>\n",
       "      <td>21.0</td>\n",
       "      <td>0.285714</td>\n",
       "      <td>0.238095</td>\n",
       "      <td>0.047619</td>\n",
       "      <td>0.047619</td>\n",
       "    </tr>\n",
       "    <tr>\n",
       "      <th>20</th>\n",
       "      <td>0.227273</td>\n",
       "      <td>0.181818</td>\n",
       "      <td>0.861929</td>\n",
       "      <td>22.0</td>\n",
       "      <td>0.272727</td>\n",
       "      <td>0.227273</td>\n",
       "      <td>0.045455</td>\n",
       "      <td>0.045455</td>\n",
       "    </tr>\n",
       "    <tr>\n",
       "      <th>42</th>\n",
       "      <td>0.250000</td>\n",
       "      <td>0.227273</td>\n",
       "      <td>0.861929</td>\n",
       "      <td>44.0</td>\n",
       "      <td>0.250000</td>\n",
       "      <td>0.159091</td>\n",
       "      <td>0.090909</td>\n",
       "      <td>0.022727</td>\n",
       "    </tr>\n",
       "    <tr>\n",
       "      <th>40</th>\n",
       "      <td>0.238095</td>\n",
       "      <td>0.214286</td>\n",
       "      <td>0.861929</td>\n",
       "      <td>42.0</td>\n",
       "      <td>0.261905</td>\n",
       "      <td>0.166667</td>\n",
       "      <td>0.095238</td>\n",
       "      <td>0.023810</td>\n",
       "    </tr>\n",
       "    <tr>\n",
       "      <th>39</th>\n",
       "      <td>0.243902</td>\n",
       "      <td>0.219512</td>\n",
       "      <td>0.861929</td>\n",
       "      <td>41.0</td>\n",
       "      <td>0.243902</td>\n",
       "      <td>0.170732</td>\n",
       "      <td>0.097561</td>\n",
       "      <td>0.024390</td>\n",
       "    </tr>\n",
       "  </tbody>\n",
       "</table>\n",
       "</div>"
      ],
      "text/plain": [
       "          RF       TCN  cv_accuracy  ensemble_size   Shallow    EEGNet  \\\n",
       "19  0.190476  0.190476     0.862297           21.0  0.285714  0.238095   \n",
       "20  0.227273  0.181818     0.861929           22.0  0.272727  0.227273   \n",
       "42  0.250000  0.227273     0.861929           44.0  0.250000  0.159091   \n",
       "40  0.238095  0.214286     0.861929           42.0  0.261905  0.166667   \n",
       "39  0.243902  0.219512     0.861929           41.0  0.243902  0.170732   \n",
       "\n",
       "        Deep        RG  \n",
       "19  0.047619  0.047619  \n",
       "20  0.045455  0.045455  \n",
       "42  0.090909  0.022727  \n",
       "40  0.095238  0.023810  \n",
       "39  0.097561  0.024390  "
      ]
     },
     "execution_count": 84,
     "metadata": {},
     "output_type": "execute_result"
    }
   ],
   "source": [
    "df.sort_values(\"cv_accuracy\", ascending=False).head(5)"
   ]
  },
  {
   "cell_type": "markdown",
   "metadata": {},
   "source": [
    "TCN CV is 85.76% -> some improvement"
   ]
  },
  {
   "cell_type": "code",
   "execution_count": 85,
   "metadata": {},
   "outputs": [
    {
     "data": {
      "text/plain": [
       "[(0.28571428571428575, 'Shallow'),\n",
       " (0.2380952380952381, 'EEGNet'),\n",
       " (0.1904761904761905, 'RF'),\n",
       " (0.1904761904761905, 'TCN'),\n",
       " (0.04761904761904762, 'Deep'),\n",
       " (0.04761904761904762, 'RG')]"
      ]
     },
     "execution_count": 85,
     "metadata": {},
     "output_type": "execute_result"
    }
   ],
   "source": [
    "# rebuild the best cv ensemble from above\n",
    "selector = EnsembleSelection(\n",
    "    ensemble_size=df.sort_values(\"cv_accuracy\", ascending=False).head(1)[\"ensemble_size\"],\n",
    "    metric=accuracy,\n",
    "    task_type=BINARY_CLASSIFICATION,\n",
    "    random_state=np.random.RandomState((2019, 8, 22))\n",
    ")\n",
    "selector = selector.fit(\n",
    "    predictions=np.array([cv_preds_dict[key] for key in sorted(list(cv_preds_dict.keys()))]),\n",
    "    labels=cv_y_true,\n",
    "    identifiers=identifiers\n",
    ")\n",
    "ensemble_predictions = selector.predict(np.array([cv_preds_dict[key] for key in sorted(list(cv_preds_dict.keys()))]))    \n",
    "ensemble_weights_and_models = selector.get_models_with_weights({key: key for key in cv_preds_dict.keys()})\n",
    "ensemble_weights_and_models"
   ]
  },
  {
   "cell_type": "code",
   "execution_count": 86,
   "metadata": {},
   "outputs": [
    {
     "data": {
      "text/plain": [
       "0.8622974963181149"
      ]
     },
     "execution_count": 86,
     "metadata": {},
     "output_type": "execute_result"
    }
   ],
   "source": [
    "# re-check cv accuracy\n",
    "((ensemble_predictions[:, 1] >= ensemble_predictions[:, 0]) == cv_y_true).mean()"
   ]
  },
  {
   "cell_type": "code",
   "execution_count": 89,
   "metadata": {},
   "outputs": [],
   "source": [
    "# compute final evaluation ensemble accuracy\n",
    "ensemble_final_eval_predictions = []\n",
    "for w, m in ensemble_weights_and_models:\n",
    "    ensemble_final_eval_predictions.append(w * eval_preds_dict[m])\n",
    "ensemble_final_eval_predictions = np.sum(ensemble_final_eval_predictions, axis=0)"
   ]
  },
  {
   "cell_type": "code",
   "execution_count": 90,
   "metadata": {},
   "outputs": [
    {
     "data": {
      "text/plain": [
       "0.8514492753623188"
      ]
     },
     "execution_count": 90,
     "metadata": {},
     "output_type": "execute_result"
    }
   ],
   "source": [
    "((ensemble_final_eval_predictions[:, 1] >= ensemble_final_eval_predictions[:, 0]) == eval_y_true).mean()"
   ]
  },
  {
   "cell_type": "markdown",
   "metadata": {},
   "source": [
    "-> no increase in final evaluation accuracy"
   ]
  },
  {
   "cell_type": "code",
   "execution_count": null,
   "metadata": {},
   "outputs": [],
   "source": []
  },
  {
   "cell_type": "markdown",
   "metadata": {},
   "source": [
    "out of curiosity: check how good an ensemble can get on every cv fold"
   ]
  },
  {
   "cell_type": "code",
   "execution_count": 91,
   "metadata": {},
   "outputs": [],
   "source": [
    "from sklearn.model_selection import KFold"
   ]
  },
  {
   "cell_type": "code",
   "execution_count": 92,
   "metadata": {},
   "outputs": [],
   "source": [
    "kf = KFold(n_splits=5, shuffle=False)"
   ]
  },
  {
   "cell_type": "code",
   "execution_count": 93,
   "metadata": {},
   "outputs": [],
   "source": [
    "ensemble_size = 50\n",
    "df = pd.DataFrame()\n",
    "for i, (train_i, test_i) in enumerate(kf.split(np.arange(len(cv_y_true)))):\n",
    "    fold_predictions = np.array([cv_preds_dict[key] for key in sorted(list(cv_preds_dict.keys()))])[:, test_i, :]\n",
    "    fold_labels = cv_y_true[test_i]\n",
    "    \n",
    "    selector = EnsembleSelection(\n",
    "        ensemble_size=ensemble_size,\n",
    "        metric=accuracy,\n",
    "        task_type=BINARY_CLASSIFICATION,\n",
    "        random_state=np.random.RandomState((2019, 8, 22))\n",
    "    )\n",
    "    selector = selector.fit(\n",
    "        predictions=fold_predictions,\n",
    "        labels=fold_labels,\n",
    "        identifiers=identifiers\n",
    "    )\n",
    "    \n",
    "    ensemble_predictions = selector.predict(fold_predictions)    \n",
    "    ensemble_weights_and_models = selector.get_models_with_weights({key: key for key in cv_preds_dict.keys()})\n",
    "    \n",
    "    d = {m: w for w, m in ensemble_weights_and_models}\n",
    "    d[\"cv_accuracy\"] = 1 - selector.get_validation_performance()\n",
    "    d[\"ensemble_size\"] = ensemble_size\n",
    "    df = df.append(d, ignore_index=True)"
   ]
  },
  {
   "cell_type": "code",
   "execution_count": 94,
   "metadata": {},
   "outputs": [
    {
     "data": {
      "text/html": [
       "<div>\n",
       "<style scoped>\n",
       "    .dataframe tbody tr th:only-of-type {\n",
       "        vertical-align: middle;\n",
       "    }\n",
       "\n",
       "    .dataframe tbody tr th {\n",
       "        vertical-align: top;\n",
       "    }\n",
       "\n",
       "    .dataframe thead th {\n",
       "        text-align: right;\n",
       "    }\n",
       "</style>\n",
       "<table border=\"1\" class=\"dataframe\">\n",
       "  <thead>\n",
       "    <tr style=\"text-align: right;\">\n",
       "      <th></th>\n",
       "      <th>Deep</th>\n",
       "      <th>RF</th>\n",
       "      <th>Shallow</th>\n",
       "      <th>TCN</th>\n",
       "      <th>cv_accuracy</th>\n",
       "      <th>ensemble_size</th>\n",
       "      <th>EEGNet</th>\n",
       "      <th>RG</th>\n",
       "      <th>SVM</th>\n",
       "    </tr>\n",
       "  </thead>\n",
       "  <tbody>\n",
       "    <tr>\n",
       "      <th>4</th>\n",
       "      <td>0.30</td>\n",
       "      <td>0.10</td>\n",
       "      <td>0.26</td>\n",
       "      <td>0.16</td>\n",
       "      <td>0.887661</td>\n",
       "      <td>50.0</td>\n",
       "      <td>0.16</td>\n",
       "      <td>0.02</td>\n",
       "      <td>NaN</td>\n",
       "    </tr>\n",
       "    <tr>\n",
       "      <th>2</th>\n",
       "      <td>NaN</td>\n",
       "      <td>0.36</td>\n",
       "      <td>0.10</td>\n",
       "      <td>0.52</td>\n",
       "      <td>0.883978</td>\n",
       "      <td>50.0</td>\n",
       "      <td>NaN</td>\n",
       "      <td>0.02</td>\n",
       "      <td>NaN</td>\n",
       "    </tr>\n",
       "    <tr>\n",
       "      <th>1</th>\n",
       "      <td>NaN</td>\n",
       "      <td>0.30</td>\n",
       "      <td>0.16</td>\n",
       "      <td>0.18</td>\n",
       "      <td>0.876611</td>\n",
       "      <td>50.0</td>\n",
       "      <td>0.02</td>\n",
       "      <td>0.32</td>\n",
       "      <td>0.02</td>\n",
       "    </tr>\n",
       "    <tr>\n",
       "      <th>0</th>\n",
       "      <td>0.26</td>\n",
       "      <td>0.32</td>\n",
       "      <td>0.10</td>\n",
       "      <td>0.32</td>\n",
       "      <td>0.862132</td>\n",
       "      <td>50.0</td>\n",
       "      <td>NaN</td>\n",
       "      <td>NaN</td>\n",
       "      <td>NaN</td>\n",
       "    </tr>\n",
       "    <tr>\n",
       "      <th>3</th>\n",
       "      <td>0.56</td>\n",
       "      <td>0.16</td>\n",
       "      <td>NaN</td>\n",
       "      <td>0.20</td>\n",
       "      <td>0.847145</td>\n",
       "      <td>50.0</td>\n",
       "      <td>NaN</td>\n",
       "      <td>NaN</td>\n",
       "      <td>0.08</td>\n",
       "    </tr>\n",
       "  </tbody>\n",
       "</table>\n",
       "</div>"
      ],
      "text/plain": [
       "   Deep    RF  Shallow   TCN  cv_accuracy  ensemble_size  EEGNet    RG   SVM\n",
       "4  0.30  0.10     0.26  0.16     0.887661           50.0    0.16  0.02   NaN\n",
       "2   NaN  0.36     0.10  0.52     0.883978           50.0     NaN  0.02   NaN\n",
       "1   NaN  0.30     0.16  0.18     0.876611           50.0    0.02  0.32  0.02\n",
       "0  0.26  0.32     0.10  0.32     0.862132           50.0     NaN   NaN   NaN\n",
       "3  0.56  0.16      NaN  0.20     0.847145           50.0     NaN   NaN  0.08"
      ]
     },
     "execution_count": 94,
     "metadata": {},
     "output_type": "execute_result"
    }
   ],
   "source": [
    "df.sort_values(\"cv_accuracy\", ascending=False).head(10)"
   ]
  },
  {
   "cell_type": "code",
   "execution_count": null,
   "metadata": {},
   "outputs": [],
   "source": []
  },
  {
   "cell_type": "code",
   "execution_count": null,
   "metadata": {},
   "outputs": [],
   "source": []
  }
 ],
 "metadata": {
  "kernelspec": {
   "display_name": "auto-sklearn",
   "language": "python",
   "name": "auto-sklearn"
  },
  "language_info": {
   "codemirror_mode": {
    "name": "ipython",
    "version": 3
   },
   "file_extension": ".py",
   "mimetype": "text/x-python",
   "name": "python",
   "nbconvert_exporter": "python",
   "pygments_lexer": "ipython3",
   "version": "3.6.8"
  }
 },
 "nbformat": 4,
 "nbformat_minor": 2
}
