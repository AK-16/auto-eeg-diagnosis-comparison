{
 "cells": [
  {
   "cell_type": "code",
   "execution_count": 1,
   "metadata": {},
   "outputs": [],
   "source": [
    "import numpy as np"
   ]
  },
  {
   "cell_type": "code",
   "execution_count": 2,
   "metadata": {},
   "outputs": [],
   "source": [
    "import matplotlib.pyplot as plt"
   ]
  },
  {
   "cell_type": "code",
   "execution_count": 3,
   "metadata": {},
   "outputs": [],
   "source": [
    "from braindecode.visualization.plot import ax_scalp"
   ]
  },
  {
   "cell_type": "code",
   "execution_count": 4,
   "metadata": {},
   "outputs": [],
   "source": [
    "CHANNEL_10_20_APPROX = (\n",
    "    \"angle\",\n",
    "    [\"A1\", [-5, 0]],\n",
    "    [\"A2\", [5, 0]],\n",
    "    [\"M1\", [-5, 0]],\n",
    "    [\"M2\", [5, 0]],\n",
    "        \n",
    "    [\"Fp1\", [-3.500, 3.500]],\n",
    "    [\"Fp2\", [3.500, 3.500]],\n",
    "\n",
    "    [\"F7\", [-4.000, 2.000]],\n",
    "    [\"F3\", [-2.000, 2.000]],\n",
    "    [\"Fz\", [0.000, 2.000]],\n",
    "    [\"F4\", [2.000, 2.000]],\n",
    "    [\"F8\", [4.000, 2.000]],\n",
    "\n",
    "    [\"C3\", [-2.000, 0.000]],\n",
    "    [\"Cz\", [0.000, 0.000]],\n",
    "    [\"C4\", [2.000, 0.000]],\n",
    "\n",
    "    [\"P3\", [-2.000, -2.000]],\n",
    "    [\"Pz\", [0.000, -2.000]],\n",
    "    [\"P4\", [2.000, -2.000]],\n",
    "    \n",
    "    [\"O1\", [-3.5, -3.5]],\n",
    "    [\"O2\", [3.5, -3.5]],\n",
    "    \n",
    "    [\"T3\", [-3.5, 0]],\n",
    "    [\"T5\", [-3.5, -2]],\n",
    "    [\"T4\", [3.5, 0]],\n",
    "    [\"T6\", [3.5, -2]],\n",
    ")"
   ]
  },
  {
   "cell_type": "code",
   "execution_count": 5,
   "metadata": {},
   "outputs": [],
   "source": [
    "names = ['A1', 'A2', 'C3', 'C4', 'Cz', 'F3', 'F4', 'F7', 'F8', 'Fp1', 'Fp2',\n",
    "       'Fz', 'O1', 'O2', 'P3', 'P4', 'Pz', 'T3', 'T4', 'T5', 'T6']"
   ]
  },
  {
   "cell_type": "code",
   "execution_count": 6,
   "metadata": {},
   "outputs": [
    {
     "name": "stderr",
     "output_type": "stream",
     "text": [
      "/home/gemeinl/anaconda3/envs/old_braindecode/lib/python3.6/site-packages/numpy/core/fromnumeric.py:83: RuntimeWarning: invalid value encountered in reduce\n",
      "  return ufunc.reduce(obj, axis, dtype, out, **passkwargs)\n"
     ]
    },
    {
     "data": {
      "text/plain": [
       "<matplotlib.image.AxesImage at 0x7f22fc5ba1d0>"
      ]
     },
     "execution_count": 6,
     "metadata": {},
     "output_type": "execute_result"
    },
    {
     "data": {
      "image/png": "[encoded data removed]",
      "text/plain": [
       "<Figure size 504x504 with 1 Axes>"
      ]
     },
     "metadata": {},
     "output_type": "display_data"
    }
   ],
   "source": [
    "fig, ax = plt.subplots(1, 1, figsize=(7,7))\n",
    "ax_scalp(np.ones(21)*np.nan, names, annotate=True, cmap=\"binary\", chan_pos_list=CHANNEL_10_20_APPROX, ax=ax, fontsize=20)"
   ]
  },
  {
   "cell_type": "markdown",
   "metadata": {},
   "source": [
    "fig.savefig(\"channel_layout.pdf\", bbox_inches=\"tight\")"
   ]
  },
  {
   "cell_type": "code",
   "execution_count": null,
   "metadata": {},
   "outputs": [],
   "source": []
  }
 ],
 "metadata": {
  "celltoolbar": "Edit Metadata",
  "kernelspec": {
   "display_name": "old_braindecode",
   "language": "python",
   "name": "old_braindecode"
  },
  "language_info": {
   "codemirror_mode": {
    "name": "ipython",
    "version": 3
   },
   "file_extension": ".py",
   "mimetype": "text/x-python",
   "name": "python",
   "nbconvert_exporter": "python",
   "pygments_lexer": "ipython3",
   "version": "3.6.8"
  }
 },
 "nbformat": 4,
 "nbformat_minor": 2
}
