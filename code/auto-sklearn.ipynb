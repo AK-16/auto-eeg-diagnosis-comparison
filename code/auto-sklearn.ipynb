{
 "cells": [
  {
   "cell_type": "code",
   "execution_count": 1,
   "metadata": {},
   "outputs": [],
   "source": [
    "import sys"
   ]
  },
  {
   "cell_type": "code",
   "execution_count": 2,
   "metadata": {},
   "outputs": [],
   "source": [
    "sys.path.insert(1, \"/home/gemeinl/code/brainfeatures/\")"
   ]
  },
  {
   "cell_type": "code",
   "execution_count": 3,
   "metadata": {},
   "outputs": [],
   "source": [
    "import numpy as np"
   ]
  },
  {
   "cell_type": "code",
   "execution_count": 4,
   "metadata": {},
   "outputs": [],
   "source": [
    "import pandas as pd"
   ]
  },
  {
   "cell_type": "code",
   "execution_count": 5,
   "metadata": {},
   "outputs": [],
   "source": [
    "from brainfeatures.data_set.tuh_abnormal import TuhAbnormal"
   ]
  },
  {
   "cell_type": "code",
   "execution_count": 6,
   "metadata": {},
   "outputs": [],
   "source": [
    "from brainfeatures.decoding.decode import get_X_y"
   ]
  },
  {
   "cell_type": "code",
   "execution_count": 7,
   "metadata": {},
   "outputs": [
    {
     "name": "stderr",
     "output_type": "stream",
     "text": [
      "/home/gemeinl/anaconda3/envs/auto-sklearn/lib/python3.6/site-packages/sklearn/externals/joblib/__init__.py:15: DeprecationWarning: sklearn.externals.joblib is deprecated in 0.21 and will be removed in 0.23. Please import this functionality directly from joblib, which can be installed with: pip install joblib. If this warning is raised when loading pickled models, you may need to re-serialize those models with scikit-learn 0.21+.\n",
      "  warnings.warn(msg, category=DeprecationWarning)\n"
     ]
    }
   ],
   "source": [
    "from autosklearn.classification import AutoSklearnClassifier"
   ]
  },
  {
   "cell_type": "code",
   "execution_count": 8,
   "metadata": {},
   "outputs": [],
   "source": [
    "n_recordings = None\n",
    "ds = TuhAbnormal(\"/home/gemeinl/data/feats_100_Hz/median/train/\", extension=\".h5\", n_recordings=n_recordings, key=\"natural\", subset=\"train\")"
   ]
  },
  {
   "cell_type": "code",
   "execution_count": 9,
   "metadata": {},
   "outputs": [],
   "source": [
    "ds.load()"
   ]
  },
  {
   "cell_type": "code",
   "execution_count": 10,
   "metadata": {},
   "outputs": [],
   "source": [
    "X, y = get_X_y(ds)"
   ]
  },
  {
   "cell_type": "code",
   "execution_count": 11,
   "metadata": {},
   "outputs": [
    {
     "data": {
      "text/plain": [
       "(2716, (1, 8631), 2716)"
      ]
     },
     "execution_count": 11,
     "metadata": {},
     "output_type": "execute_result"
    }
   ],
   "source": [
    "len(X), X[0].shape, len(y)"
   ]
  },
  {
   "cell_type": "code",
   "execution_count": 12,
   "metadata": {},
   "outputs": [],
   "source": [
    "X = np.concatenate([x for x in X], axis=0)"
   ]
  },
  {
   "cell_type": "code",
   "execution_count": 13,
   "metadata": {},
   "outputs": [
    {
     "data": {
      "text/plain": [
       "(2716, 8631)"
      ]
     },
     "execution_count": 13,
     "metadata": {},
     "output_type": "execute_result"
    }
   ],
   "source": [
    "X.shape"
   ]
  },
  {
   "cell_type": "code",
   "execution_count": 103,
   "metadata": {},
   "outputs": [],
   "source": [
    "tmp_folder='/home/gemeinl/tmp/tmp5/'\n",
    "output_folder='/home/gemeinl/tmp/out5/'"
   ]
  },
  {
   "cell_type": "code",
   "execution_count": 16,
   "metadata": {},
   "outputs": [],
   "source": [
    "automl = AutoSklearnClassifier(\n",
    "    time_left_for_this_task=60*60*24*1,\n",
    "    per_run_time_limit=60*60*4,\n",
    "    initial_configurations_via_metalearning=25,\n",
    "    ensemble_size=50,\n",
    "    ensemble_nbest=50,\n",
    "    ensemble_memory_limit=30000,\n",
    "    seed=4,\n",
    "    ml_memory_limit=60000,\n",
    "    include_estimators=None,\n",
    "    exclude_estimators=None,\n",
    "    include_preprocessors=None,\n",
    "    exclude_preprocessors=None,\n",
    "    resampling_strategy=\"cv\",\n",
    "    resampling_strategy_arguments={\"folds\": 5, \"shuffle\": False},\n",
    "    tmp_folder=tmp_folder,\n",
    "    output_folder=output_folder,\n",
    "    delete_tmp_folder_after_terminate=False,\n",
    "    delete_output_folder_after_terminate=False,\n",
    "    shared_mode=False,\n",
    "    n_jobs=16,\n",
    "    disable_evaluator_output=False,\n",
    "    get_smac_object_callback=None,\n",
    "    smac_scenario_args=None,\n",
    "    logging_config=None,\n",
    "    metadata_directory=None,\n",
    ")"
   ]
  },
  {
   "cell_type": "code",
   "execution_count": null,
   "metadata": {},
   "outputs": [
    {
     "name": "stdout",
     "output_type": "stream",
     "text": [
      "[WARNING] [2019-09-05 10:15:42,575:EnsembleBuilder(4153361530):auto_diagnosis] No models better than random - using Dummy Score!\n",
      "[WARNING] [2019-09-05 10:15:42,611:EnsembleBuilder(4153361530):auto_diagnosis] No models better than random - using Dummy Score!\n",
      "[WARNING] [2019-09-05 10:15:44,621:EnsembleBuilder(4153361530):auto_diagnosis] No models better than random - using Dummy Score!\n",
      "[WARNING] [2019-09-05 10:15:46,627:EnsembleBuilder(4153361530):auto_diagnosis] No models better than random - using Dummy Score!\n",
      "[WARNING] [2019-09-05 10:15:48,717:EnsembleBuilder(4153361530):auto_diagnosis] No models better than random - using Dummy Score!\n",
      "[WARNING] [2019-09-05 10:15:50,725:EnsembleBuilder(4153361530):auto_diagnosis] No models better than random - using Dummy Score!\n",
      "[WARNING] [2019-09-05 10:15:52,736:EnsembleBuilder(4153361530):auto_diagnosis] No models better than random - using Dummy Score!\n",
      "[WARNING] [2019-09-05 10:15:54,741:EnsembleBuilder(4153361530):auto_diagnosis] No models better than random - using Dummy Score!\n",
      "[WARNING] [2019-09-05 10:15:56,763:EnsembleBuilder(4153361530):auto_diagnosis] No models better than random - using Dummy Score!\n",
      "[WARNING] [2019-09-05 10:15:58,776:EnsembleBuilder(4153361530):auto_diagnosis] No models better than random - using Dummy Score!\n",
      "[WARNING] [2019-09-05 10:16:00,800:EnsembleBuilder(4153361530):auto_diagnosis] No models better than random - using Dummy Score!\n",
      "[WARNING] [2019-09-05 10:16:02,827:EnsembleBuilder(4153361530):auto_diagnosis] No models better than random - using Dummy Score!\n",
      "[WARNING] [2019-09-05 10:16:04,856:EnsembleBuilder(4153361530):auto_diagnosis] No models better than random - using Dummy Score!\n",
      "[WARNING] [2019-09-05 10:16:06,865:EnsembleBuilder(4153361530):auto_diagnosis] No models better than random - using Dummy Score!\n",
      "[WARNING] [2019-09-05 10:16:08,891:EnsembleBuilder(4153361530):auto_diagnosis] No models better than random - using Dummy Score!\n",
      "[WARNING] [2019-09-05 10:16:10,905:EnsembleBuilder(4153361530):auto_diagnosis] No models better than random - using Dummy Score!\n",
      "[WARNING] [2019-09-05 10:16:12,913:EnsembleBuilder(4153361530):auto_diagnosis] No models better than random - using Dummy Score!\n",
      "[WARNING] [2019-09-05 10:16:14,929:EnsembleBuilder(4153361530):auto_diagnosis] No models better than random - using Dummy Score!\n",
      "[WARNING] [2019-09-05 10:16:16,953:EnsembleBuilder(4153361530):auto_diagnosis] No models better than random - using Dummy Score!\n",
      "[WARNING] [2019-09-05 10:16:18,964:EnsembleBuilder(4153361530):auto_diagnosis] No models better than random - using Dummy Score!\n",
      "[WARNING] [2019-09-05 10:16:20,990:EnsembleBuilder(4153361530):auto_diagnosis] No models better than random - using Dummy Score!\n",
      "[WARNING] [2019-09-05 10:16:23,012:EnsembleBuilder(4153361530):auto_diagnosis] No models better than random - using Dummy Score!\n",
      "[WARNING] [2019-09-05 10:16:25,037:EnsembleBuilder(4153361530):auto_diagnosis] No models better than random - using Dummy Score!\n",
      "[WARNING] [2019-09-05 10:16:27,065:EnsembleBuilder(4153361530):auto_diagnosis] No models better than random - using Dummy Score!\n",
      "[WARNING] [2019-09-05 10:16:29,084:EnsembleBuilder(4153361530):auto_diagnosis] No models better than random - using Dummy Score!\n",
      "[WARNING] [2019-09-05 10:16:31,093:EnsembleBuilder(4153361530):auto_diagnosis] No models better than random - using Dummy Score!\n",
      "[WARNING] [2019-09-05 10:16:33,121:EnsembleBuilder(4153361530):auto_diagnosis] No models better than random - using Dummy Score!\n",
      "[WARNING] [2019-09-05 10:16:35,143:EnsembleBuilder(4153361530):auto_diagnosis] No models better than random - using Dummy Score!\n",
      "[WARNING] [2019-09-05 10:16:37,169:EnsembleBuilder(4153361530):auto_diagnosis] No models better than random - using Dummy Score!\n",
      "[WARNING] [2019-09-05 10:16:39,193:EnsembleBuilder(4153361530):auto_diagnosis] No models better than random - using Dummy Score!\n",
      "[WARNING] [2019-09-05 10:16:41,204:EnsembleBuilder(4153361530):auto_diagnosis] No models better than random - using Dummy Score!\n",
      "[WARNING] [2019-09-05 10:16:43,221:EnsembleBuilder(4153361530):auto_diagnosis] No models better than random - using Dummy Score!\n",
      "[WARNING] [2019-09-05 10:16:45,247:EnsembleBuilder(4153361530):auto_diagnosis] No models better than random - using Dummy Score!\n",
      "[WARNING] [2019-09-05 10:16:47,273:EnsembleBuilder(4153361530):auto_diagnosis] No models better than random - using Dummy Score!\n",
      "[WARNING] [2019-09-05 10:16:49,286:EnsembleBuilder(4153361530):auto_diagnosis] No models better than random - using Dummy Score!\n",
      "[WARNING] [2019-09-05 10:16:51,305:EnsembleBuilder(4153361530):auto_diagnosis] No models better than random - using Dummy Score!\n",
      "[WARNING] [2019-09-05 10:16:53,326:EnsembleBuilder(4153361530):auto_diagnosis] No models better than random - using Dummy Score!\n",
      "[WARNING] [2019-09-05 10:16:55,353:EnsembleBuilder(4153361530):auto_diagnosis] No models better than random - using Dummy Score!\n",
      "[WARNING] [2019-09-05 10:16:57,373:EnsembleBuilder(4153361530):auto_diagnosis] No models better than random - using Dummy Score!\n",
      "[WARNING] [2019-09-05 10:16:59,394:EnsembleBuilder(4153361530):auto_diagnosis] No models better than random - using Dummy Score!\n",
      "[WARNING] [2019-09-05 10:17:01,416:EnsembleBuilder(4153361530):auto_diagnosis] No models better than random - using Dummy Score!\n",
      "[WARNING] [2019-09-05 10:17:03,434:EnsembleBuilder(4153361530):auto_diagnosis] No models better than random - using Dummy Score!\n",
      "[WARNING] [2019-09-05 10:17:05,445:EnsembleBuilder(4153361530):auto_diagnosis] No models better than random - using Dummy Score!\n",
      "[WARNING] [2019-09-05 10:17:07,457:EnsembleBuilder(4153361530):auto_diagnosis] No models better than random - using Dummy Score!\n",
      "[WARNING] [2019-09-05 10:17:09,493:EnsembleBuilder(4153361530):auto_diagnosis] No models better than random - using Dummy Score!\n",
      "[WARNING] [2019-09-05 10:17:11,508:EnsembleBuilder(4153361530):auto_diagnosis] No models better than random - using Dummy Score!\n",
      "[WARNING] [2019-09-05 10:17:13,521:EnsembleBuilder(4153361530):auto_diagnosis] No models better than random - using Dummy Score!\n",
      "[WARNING] [2019-09-05 10:17:15,536:EnsembleBuilder(4153361530):auto_diagnosis] No models better than random - using Dummy Score!\n",
      "[WARNING] [2019-09-05 10:17:17,556:EnsembleBuilder(4153361530):auto_diagnosis] No models better than random - using Dummy Score!\n",
      "[WARNING] [2019-09-05 10:17:19,573:EnsembleBuilder(4153361530):auto_diagnosis] No models better than random - using Dummy Score!\n",
      "[WARNING] [2019-09-05 10:17:21,593:EnsembleBuilder(4153361530):auto_diagnosis] No models better than random - using Dummy Score!\n",
      "[WARNING] [2019-09-05 10:17:23,625:EnsembleBuilder(4153361530):auto_diagnosis] No models better than random - using Dummy Score!\n",
      "[WARNING] [2019-09-05 10:17:25,642:EnsembleBuilder(4153361530):auto_diagnosis] No models better than random - using Dummy Score!\n",
      "[WARNING] [2019-09-05 10:17:27,676:EnsembleBuilder(4153361530):auto_diagnosis] No models better than random - using Dummy Score!\n",
      "[WARNING] [2019-09-05 10:17:29,689:EnsembleBuilder(4153361530):auto_diagnosis] No models better than random - using Dummy Score!\n",
      "[WARNING] [2019-09-05 10:17:31,714:EnsembleBuilder(4153361530):auto_diagnosis] No models better than random - using Dummy Score!\n",
      "[WARNING] [2019-09-05 10:17:33,728:EnsembleBuilder(4153361530):auto_diagnosis] No models better than random - using Dummy Score!\n",
      "[WARNING] [2019-09-05 10:17:35,741:EnsembleBuilder(4153361530):auto_diagnosis] No models better than random - using Dummy Score!\n",
      "[WARNING] [2019-09-05 10:17:37,768:EnsembleBuilder(4153361530):auto_diagnosis] No models better than random - using Dummy Score!\n",
      "[WARNING] [2019-09-05 10:17:39,789:EnsembleBuilder(4153361530):auto_diagnosis] No models better than random - using Dummy Score!\n",
      "[WARNING] [2019-09-05 10:17:41,801:EnsembleBuilder(4153361530):auto_diagnosis] No models better than random - using Dummy Score!\n",
      "[WARNING] [2019-09-05 10:17:43,828:EnsembleBuilder(4153361530):auto_diagnosis] No models better than random - using Dummy Score!\n",
      "[WARNING] [2019-09-05 10:17:45,841:EnsembleBuilder(4153361530):auto_diagnosis] No models better than random - using Dummy Score!\n",
      "[WARNING] [2019-09-05 10:17:47,872:EnsembleBuilder(4153361530):auto_diagnosis] No models better than random - using Dummy Score!\n",
      "[WARNING] [2019-09-05 10:17:49,881:EnsembleBuilder(4153361530):auto_diagnosis] No models better than random - using Dummy Score!\n",
      "[WARNING] [2019-09-05 10:17:51,910:EnsembleBuilder(4153361530):auto_diagnosis] No models better than random - using Dummy Score!\n",
      "[WARNING] [2019-09-05 10:17:53,941:EnsembleBuilder(4153361530):auto_diagnosis] No models better than random - using Dummy Score!\n",
      "[WARNING] [2019-09-05 10:17:55,957:EnsembleBuilder(4153361530):auto_diagnosis] No models better than random - using Dummy Score!\n",
      "[WARNING] [2019-09-05 10:17:57,973:EnsembleBuilder(4153361530):auto_diagnosis] No models better than random - using Dummy Score!\n",
      "[WARNING] [2019-09-05 10:17:59,997:EnsembleBuilder(4153361530):auto_diagnosis] No models better than random - using Dummy Score!\n",
      "[WARNING] [2019-09-05 10:18:02,018:EnsembleBuilder(4153361530):auto_diagnosis] No models better than random - using Dummy Score!\n",
      "[WARNING] [2019-09-05 10:18:04,041:EnsembleBuilder(4153361530):auto_diagnosis] No models better than random - using Dummy Score!\n",
      "[WARNING] [2019-09-05 10:18:06,056:EnsembleBuilder(4153361530):auto_diagnosis] No models better than random - using Dummy Score!\n",
      "[WARNING] [2019-09-05 10:18:08,076:EnsembleBuilder(4153361530):auto_diagnosis] No models better than random - using Dummy Score!\n",
      "[WARNING] [2019-09-05 10:18:10,100:EnsembleBuilder(4153361530):auto_diagnosis] No models better than random - using Dummy Score!\n",
      "[WARNING] [2019-09-05 10:18:12,125:EnsembleBuilder(4153361530):auto_diagnosis] No models better than random - using Dummy Score!\n",
      "[WARNING] [2019-09-05 10:18:14,153:EnsembleBuilder(4153361530):auto_diagnosis] No models better than random - using Dummy Score!\n",
      "[WARNING] [2019-09-05 10:18:16,188:EnsembleBuilder(4153361530):auto_diagnosis] No models better than random - using Dummy Score!\n",
      "[WARNING] [2019-09-05 10:18:18,221:EnsembleBuilder(4153361530):auto_diagnosis] No models better than random - using Dummy Score!\n",
      "[WARNING] [2019-09-05 10:18:20,241:EnsembleBuilder(4153361530):auto_diagnosis] No models better than random - using Dummy Score!\n",
      "[WARNING] [2019-09-05 10:18:22,266:EnsembleBuilder(4153361530):auto_diagnosis] No models better than random - using Dummy Score!\n",
      "[WARNING] [2019-09-05 10:18:24,288:EnsembleBuilder(4153361530):auto_diagnosis] No models better than random - using Dummy Score!\n",
      "[WARNING] [2019-09-05 10:18:26,297:EnsembleBuilder(4153361530):auto_diagnosis] No models better than random - using Dummy Score!\n",
      "[WARNING] [2019-09-05 10:18:28,312:EnsembleBuilder(4153361530):auto_diagnosis] No models better than random - using Dummy Score!\n",
      "[WARNING] [2019-09-05 10:18:30,336:EnsembleBuilder(4153361530):auto_diagnosis] No models better than random - using Dummy Score!\n",
      "[WARNING] [2019-09-05 10:18:32,369:EnsembleBuilder(4153361530):auto_diagnosis] No models better than random - using Dummy Score!\n",
      "[WARNING] [2019-09-05 10:18:34,391:EnsembleBuilder(4153361530):auto_diagnosis] No models better than random - using Dummy Score!\n",
      "[WARNING] [2019-09-05 10:18:36,406:EnsembleBuilder(4153361530):auto_diagnosis] No models better than random - using Dummy Score!\n",
      "[WARNING] [2019-09-05 10:18:38,428:EnsembleBuilder(4153361530):auto_diagnosis] No models better than random - using Dummy Score!\n"
     ]
    }
   ],
   "source": [
    "# fit() changes the data in place, but refit needs the original data. We\n",
    "# therefore copy the data. In practice, one should reload the data\n",
    "automl.fit(X.copy(), y.copy(), dataset_name='auto_diagnosis')"
   ]
  },
  {
   "cell_type": "code",
   "execution_count": null,
   "metadata": {},
   "outputs": [],
   "source": [
    "automl.cv_results_"
   ]
  },
  {
   "cell_type": "code",
   "execution_count": null,
   "metadata": {},
   "outputs": [],
   "source": [
    "print(automl.sprint_statistics())"
   ]
  },
  {
   "cell_type": "code",
   "execution_count": 15,
   "metadata": {},
   "outputs": [],
   "source": [
    "import pickle"
   ]
  },
  {
   "cell_type": "code",
   "execution_count": null,
   "metadata": {},
   "outputs": [],
   "source": [
    "x = automl.show_models()\n",
    "results = {\"ensemble\": x}\n",
    "pickle.dump(results, open(output_folder+'show_models_beore_refit.pkl','wb'))"
   ]
  },
  {
   "cell_type": "code",
   "execution_count": null,
   "metadata": {},
   "outputs": [],
   "source": [
    "pickle.dump(automl, open(output_folder+'automl_object.pkl','wb'))"
   ]
  },
  {
   "cell_type": "code",
   "execution_count": null,
   "metadata": {},
   "outputs": [],
   "source": []
  },
  {
   "cell_type": "code",
   "execution_count": null,
   "metadata": {},
   "outputs": [],
   "source": []
  },
  {
   "cell_type": "code",
   "execution_count": null,
   "metadata": {},
   "outputs": [],
   "source": [
    "# During fit(), models are fit on individual cross-validation folds. To use\n",
    "# all available data, we call refit() which trains all models in the\n",
    "# final ensemble on the whole dataset.\n",
    "automl.refit(X.copy(), y.copy())"
   ]
  },
  {
   "cell_type": "code",
   "execution_count": null,
   "metadata": {},
   "outputs": [],
   "source": [
    "print(automl.show_models())"
   ]
  },
  {
   "cell_type": "code",
   "execution_count": null,
   "metadata": {},
   "outputs": [],
   "source": []
  },
  {
   "cell_type": "code",
   "execution_count": null,
   "metadata": {},
   "outputs": [],
   "source": []
  },
  {
   "cell_type": "code",
   "execution_count": null,
   "metadata": {},
   "outputs": [],
   "source": []
  },
  {
   "cell_type": "code",
   "execution_count": 50,
   "metadata": {},
   "outputs": [],
   "source": [
    "ds_eval = TuhAbnormal(\"/home/gemeinl/data/feats_100_Hz/median/eval/\", extension=\".h5\", n_recordings=None, key=\"natural\", subset=\"eval\")"
   ]
  },
  {
   "cell_type": "code",
   "execution_count": 51,
   "metadata": {},
   "outputs": [],
   "source": [
    "ds_eval.load()"
   ]
  },
  {
   "cell_type": "code",
   "execution_count": 52,
   "metadata": {},
   "outputs": [],
   "source": [
    "X_eval, y_eval = get_X_y(ds_eval)"
   ]
  },
  {
   "cell_type": "code",
   "execution_count": 53,
   "metadata": {},
   "outputs": [],
   "source": [
    "X_eval = np.concatenate([x for x in X_eval], axis=0)"
   ]
  },
  {
   "cell_type": "code",
   "execution_count": 54,
   "metadata": {},
   "outputs": [
    {
     "data": {
      "text/plain": [
       "((276, 8631), 276)"
      ]
     },
     "execution_count": 54,
     "metadata": {},
     "output_type": "execute_result"
    }
   ],
   "source": [
    "X_eval.shape, len(y_eval)"
   ]
  },
  {
   "cell_type": "code",
   "execution_count": null,
   "metadata": {},
   "outputs": [],
   "source": []
  },
  {
   "cell_type": "code",
   "execution_count": null,
   "metadata": {},
   "outputs": [],
   "source": []
  },
  {
   "cell_type": "code",
   "execution_count": null,
   "metadata": {},
   "outputs": [],
   "source": [
    "predictions = automl.predict(X_eval)"
   ]
  },
  {
   "cell_type": "code",
   "execution_count": null,
   "metadata": {},
   "outputs": [],
   "source": [
    "from sklearn.metrics import accuracy_score"
   ]
  },
  {
   "cell_type": "code",
   "execution_count": null,
   "metadata": {},
   "outputs": [],
   "source": [
    "print(\"Accuracy score\", accuracy_score(y_eval, predictions))"
   ]
  },
  {
   "cell_type": "code",
   "execution_count": null,
   "metadata": {},
   "outputs": [],
   "source": [
    "print(automl.sprint_statistics())"
   ]
  },
  {
   "cell_type": "code",
   "execution_count": null,
   "metadata": {},
   "outputs": [],
   "source": []
  },
  {
   "cell_type": "code",
   "execution_count": null,
   "metadata": {},
   "outputs": [],
   "source": [
    "df = pd.DataFrame(predictions)"
   ]
  },
  {
   "cell_type": "code",
   "execution_count": null,
   "metadata": {},
   "outputs": [],
   "source": [
    "df.to_csv(output_folder+\"predictions_eval.csv\")"
   ]
  },
  {
   "cell_type": "code",
   "execution_count": null,
   "metadata": {},
   "outputs": [],
   "source": [
    "probas = automl.predict_proba(X_eval)"
   ]
  },
  {
   "cell_type": "code",
   "execution_count": null,
   "metadata": {},
   "outputs": [],
   "source": [
    "df = pd.DataFrame(probas)"
   ]
  },
  {
   "cell_type": "code",
   "execution_count": null,
   "metadata": {},
   "outputs": [],
   "source": [
    "df.to_csv(output_folder+\"probas_eval.csv\")"
   ]
  },
  {
   "cell_type": "code",
   "execution_count": null,
   "metadata": {},
   "outputs": [],
   "source": []
  },
  {
   "cell_type": "code",
   "execution_count": null,
   "metadata": {},
   "outputs": [],
   "source": [
    "import pickle"
   ]
  },
  {
   "cell_type": "code",
   "execution_count": null,
   "metadata": {},
   "outputs": [],
   "source": [
    "results = {\"ensemble\": automl.show_models()}"
   ]
  },
  {
   "cell_type": "code",
   "execution_count": null,
   "metadata": {},
   "outputs": [],
   "source": [
    "pickle.dump(results, open(tmp_folder+'show_models_after_refit.pkl','wb'))"
   ]
  },
  {
   "cell_type": "code",
   "execution_count": null,
   "metadata": {},
   "outputs": [],
   "source": []
  },
  {
   "cell_type": "code",
   "execution_count": null,
   "metadata": {},
   "outputs": [],
   "source": []
  },
  {
   "cell_type": "code",
   "execution_count": 33,
   "metadata": {},
   "outputs": [
    {
     "name": "stderr",
     "output_type": "stream",
     "text": [
      "/home/gemeinl/anaconda3/envs/auto-sklearn/lib/python3.6/site-packages/sklearn/base.py:306: UserWarning: Trying to unpickle estimator StandardScaler from version 0.19.2 when using version 0.21.3. This might lead to breaking code or invalid results. Use at your own risk.\n",
      "  UserWarning)\n",
      "/home/gemeinl/anaconda3/envs/auto-sklearn/lib/python3.6/site-packages/sklearn/base.py:306: UserWarning: Trying to unpickle estimator RobustScaler from version 0.19.2 when using version 0.21.3. This might lead to breaking code or invalid results. Use at your own risk.\n",
      "  UserWarning)\n",
      "/home/gemeinl/anaconda3/envs/auto-sklearn/lib/python3.6/site-packages/sklearn/base.py:306: UserWarning: Trying to unpickle estimator MinMaxScaler from version 0.19.2 when using version 0.21.3. This might lead to breaking code or invalid results. Use at your own risk.\n",
      "  UserWarning)\n",
      "/home/gemeinl/anaconda3/envs/auto-sklearn/lib/python3.6/site-packages/sklearn/base.py:306: UserWarning: Trying to unpickle estimator QuantileTransformer from version 0.19.2 when using version 0.21.3. This might lead to breaking code or invalid results. Use at your own risk.\n",
      "  UserWarning)\n"
     ]
    },
    {
     "name": "stdout",
     "output_type": "stream",
     "text": [
      "auto-sklearn results:\n",
      "  Dataset name: auto_diagnosis\n",
      "  Metric: accuracy\n",
      "  Best validation score: 0.852725\n",
      "  Number of target algorithm runs: 598\n",
      "  Number of successful target algorithm runs: 510\n",
      "  Number of crashed target algorithm runs: 39\n",
      "  Number of target algorithms that exceeded the time limit: 35\n",
      "  Number of target algorithms that exceeded the memory limit: 14\n",
      "\n",
      "auto-sklearn results:\n",
      "  Dataset name: auto_diagnosis\n",
      "  Metric: accuracy\n",
      "  Best validation score: 0.851620\n",
      "  Number of target algorithm runs: 607\n",
      "  Number of successful target algorithm runs: 468\n",
      "  Number of crashed target algorithm runs: 66\n",
      "  Number of target algorithms that exceeded the time limit: 45\n",
      "  Number of target algorithms that exceeded the memory limit: 28\n",
      "\n",
      "auto-sklearn results:\n",
      "  Dataset name: auto_diagnosis\n",
      "  Metric: accuracy\n",
      "  Best validation score: 0.849779\n",
      "  Number of target algorithm runs: 487\n",
      "  Number of successful target algorithm runs: 378\n",
      "  Number of crashed target algorithm runs: 56\n",
      "  Number of target algorithms that exceeded the time limit: 35\n",
      "  Number of target algorithms that exceeded the memory limit: 18\n",
      "\n",
      "auto-sklearn results:\n",
      "  Dataset name: auto_diagnosis\n",
      "  Metric: accuracy\n",
      "  Best validation score: 0.853461\n",
      "  Number of target algorithm runs: 570\n",
      "  Number of successful target algorithm runs: 438\n",
      "  Number of crashed target algorithm runs: 71\n",
      "  Number of target algorithms that exceeded the time limit: 44\n",
      "  Number of target algorithms that exceeded the memory limit: 17\n",
      "\n",
      "auto-sklearn results:\n",
      "  Dataset name: auto_diagnosis\n",
      "  Metric: accuracy\n",
      "  Best validation score: 0.851988\n",
      "  Number of target algorithm runs: 501\n",
      "  Number of successful target algorithm runs: 375\n",
      "  Number of crashed target algorithm runs: 62\n",
      "  Number of target algorithms that exceeded the time limit: 44\n",
      "  Number of target algorithms that exceeded the memory limit: 20\n",
      "\n"
     ]
    }
   ],
   "source": [
    "ensemble_models = {}\n",
    "for i in range(2,7):\n",
    "    output_folder = '/home/gemeinl/tmp/out{}/'.format(i)\n",
    "    import pickle\n",
    "    with open(output_folder+\"automl_object.pkl\", \"rb\") as pkl_file:\n",
    "        automl = pickle.load(pkl_file)\n",
    "    print(automl.sprint_statistics())\n",
    "    ensemble_models.update({i: automl.show_models()})    "
   ]
  },
  {
   "cell_type": "code",
   "execution_count": null,
   "metadata": {},
   "outputs": [],
   "source": []
  },
  {
   "cell_type": "code",
   "execution_count": null,
   "metadata": {},
   "outputs": [],
   "source": []
  }
 ],
 "metadata": {
  "kernelspec": {
   "display_name": "auto-sklearn",
   "language": "python",
   "name": "auto-sklearn"
  },
  "language_info": {
   "codemirror_mode": {
    "name": "ipython",
    "version": 3
   },
   "file_extension": ".py",
   "mimetype": "text/x-python",
   "name": "python",
   "nbconvert_exporter": "python",
   "pygments_lexer": "ipython3",
   "version": "3.6.8"
  }
 },
 "nbformat": 4,
 "nbformat_minor": 2
}
